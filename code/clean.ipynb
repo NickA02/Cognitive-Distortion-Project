{
 "cells": [
  {
   "cell_type": "code",
   "execution_count": 18,
   "metadata": {},
   "outputs": [],
   "source": [
    "import pandas as pd\n",
    "import os\n",
    "#Change the path to the directory where the files are stored\n",
    "path = '/Users/nicholasalmy/Desktop/Cognitive-Distortion-Project'\n",
    "os.chdir(path)\n",
    "\n",
    "\n",
    "def clean(path):\n",
    "    #Read the csv file\n",
    "    df = pd.read_csv(path)\n",
    "    #Drop the columns that are not needed\n",
    "    df = df[['Patient Question', 'llama3.2response']]\n",
    "    try:\n",
    "        #Rename the columns\n",
    "        df = df.rename(columns={\"Patient Question\": \"Prompt\", \"llama3.2response\": \"Response\"})\n",
    "        df.to_csv(path, index=False)\n",
    "    except:\n",
    "        print(f\"Columns already renamed: {path}\")\n",
    "\n",
    "#write me a function that counts\n",
    "def count(path):\n",
    "    df = pd.read_csv(path)\n",
    "    print(f\"Number of rows: {df.shape[0]}\")\n",
    "    print(f\"Number of columns: {df.shape[1]}\")\n",
    "    print(f\"Columns: {df.columns}\")\n"
   ]
  },
  {
   "cell_type": "code",
   "execution_count": 19,
   "metadata": {},
   "outputs": [],
   "source": [
    "results = [\n",
    "    'prompts/binary/results/llama3.2-3b/one_shot.csv'\n",
    "    ]\n",
    "\n",
    "for result in results:\n",
    "    clean(result)\n"
   ]
  }
 ],
 "metadata": {
  "kernelspec": {
   "display_name": "FilmViewer",
   "language": "python",
   "name": "python3"
  },
  "language_info": {
   "codemirror_mode": {
    "name": "ipython",
    "version": 3
   },
   "file_extension": ".py",
   "mimetype": "text/x-python",
   "name": "python",
   "nbconvert_exporter": "python",
   "pygments_lexer": "ipython3",
   "version": "3.10.9"
  }
 },
 "nbformat": 4,
 "nbformat_minor": 2
}
