{
 "cells": [
  {
   "cell_type": "code",
   "execution_count": 16,
   "metadata": {},
   "outputs": [],
   "source": [
    "import pandas as pd\n",
    "import os\n",
    "#Change the path to the directory where the files are stored\n",
    "path = '/Users/nicholasalmy/Desktop/Cognitive-Distortion-Project'\n",
    "os.chdir(path)\n",
    "\n",
    "\n",
    "def clean(path):\n",
    "    df = pd.read_csv(path)\n",
    "    df = df[['Patient Question', 'llama3.2response']]\n",
    "    try:\n",
    "        df = df.rename(columns={\"Patient Question\": \"Prompt\", \"llama3.2response\": \"Response\"})\n",
    "        df.to_csv(path, index=False)\n",
    "    except:\n",
    "        print(f\"Columns already renamed: {path}\")\n",
    "\n"
   ]
  },
  {
   "cell_type": "code",
   "execution_count": 17,
   "metadata": {},
   "outputs": [],
   "source": [
    "results = [\n",
    "    'prompts/binary/results/llama3.2-3b/one_shot.csv'\n",
    "    ]\n",
    "\n",
    "for result in results:\n",
    "    clean(result)\n"
   ]
  }
 ],
 "metadata": {
  "kernelspec": {
   "display_name": "FilmViewer",
   "language": "python",
   "name": "python3"
  },
  "language_info": {
   "codemirror_mode": {
    "name": "ipython",
    "version": 3
   },
   "file_extension": ".py",
   "mimetype": "text/x-python",
   "name": "python",
   "nbconvert_exporter": "python",
   "pygments_lexer": "ipython3",
   "version": "3.10.9"
  }
 },
 "nbformat": 4,
 "nbformat_minor": 2
}
