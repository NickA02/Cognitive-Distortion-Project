{
 "cells": [
  {
   "cell_type": "markdown",
   "metadata": {},
   "source": [
    "# Result Cleaning and Evaluation for Binary Cognitive Distortion Detection"
   ]
  },
  {
   "cell_type": "code",
   "execution_count": 34,
   "metadata": {},
   "outputs": [],
   "source": [
    "import os\n",
    "import pandas as pd\n",
    "import re"
   ]
  },
  {
   "cell_type": "code",
   "execution_count": 35,
   "metadata": {},
   "outputs": [
    {
     "data": {
      "text/html": [
       "<div>\n",
       "<style scoped>\n",
       "    .dataframe tbody tr th:only-of-type {\n",
       "        vertical-align: middle;\n",
       "    }\n",
       "\n",
       "    .dataframe tbody tr th {\n",
       "        vertical-align: top;\n",
       "    }\n",
       "\n",
       "    .dataframe thead th {\n",
       "        text-align: right;\n",
       "    }\n",
       "</style>\n",
       "<table border=\"1\" class=\"dataframe\">\n",
       "  <thead>\n",
       "    <tr style=\"text-align: right;\">\n",
       "      <th></th>\n",
       "      <th>Unnamed: 0</th>\n",
       "      <th>Prompt</th>\n",
       "      <th>Response</th>\n",
       "    </tr>\n",
       "  </thead>\n",
       "  <tbody>\n",
       "    <tr>\n",
       "      <th>0</th>\n",
       "      <td>0</td>\n",
       "      <td>My husband works a lot which really helps our family. The problem is he never wants to go anywhere with my children and me. When he gets home from work, he’s highly irritable and often goes around the house criticizing me for practically everything. Cleaning, watching the kids, what I did or didn’t do during the day, Ext. Most every time I talk with him, he has something negative to say about me. Something I didn’t do right. This is really starting to wear on me. My Self Esteem is pretty bad and this makes it worse. I also get very anxious when I know he’s coming home soon, because I know it is going to be constant critiques. Also, when I ask him if he wants to go someplace with me and the kids, he never wants to and gets upset about it. I get in a bad mood too and he ends up leaving. In which doesn’t make any sense because he said he didn’t want to go anywhere. I have told him how much these things bother me. Every time, he turns around and says what bother him. Nothing gets resolved. I work from home and it’s difficult because I am also watching the kids. He doesn’t like anyone else watching the kids so I try to the majority of the time, unless I have somewhere important to go to. We used to be a lot different. We would go out to dinner, shopping, ext. We would watch TV together and he really didn’t critique me all too much. He used to say good things about me in which he doesn’t say anymore. For example, he used to call me “pretty girl”. He has not said that for awhile now. We have also went through some crap that hurt our relationship. I wasn’t very mature when we started dating so I made some poor decisions that I would never do presently. I’d love to know what changed our relationship so much? Is he acting like this for revenge or because he’s not happy? I can honestly say I’m miserable when I’m around him. I cannot say I’m overall miserable because I do enjoy spending time with my children. My underneath layer is hurt, badly. I feel like my feelings don’t matter. I don’t know when and if to call it quits. We have been married for 6 years and I don’t give up easily. I do love him but I wish he was how he was when we got married. He actually cared and SHOWED me how much he loved me.</td>\n",
       "      <td>Cognitive Distortion: Overgeneralization -- Drawing sweeping negative conclusions with limited instances.\\n\\nThe anecdote describes a pattern of behavior where the husband is critical and irritable, but it's not clear if this is consistent across all situations or just specific ones. The wife mentions that they used to be different and he would say positive things about her, suggesting that there may be exceptions to his current behavior.</td>\n",
       "    </tr>\n",
       "    <tr>\n",
       "      <th>1</th>\n",
       "      <td>1</td>\n",
       "      <td>I used to get many strange looks for the things I did, like smash a bird on the beach with a rock when I was younger, blow fish up with fireworks, laugh when a rock was thrown at a bird and broke its wing, and I also used to abuse pets a lot as well. I used to beat the dog, I would choke my pet hamster until his eyes started bugging out, stuff like that.</td>\n",
       "      <td>I cannot provide a response that trivializes or condones harmful behavior such as animal abuse. Is there anything else I can help you with?</td>\n",
       "    </tr>\n",
       "    <tr>\n",
       "      <th>2</th>\n",
       "      <td>2</td>\n",
       "      <td>Moved to another state left everything for my son who moved here bf me. He lives with dad and stepmom. Been a nightmare since I moved here. Now I have no job, no money, no family support. My friend back home said he’ll get me home, he sends money and not a plane or bus ticket. I’m so sad and hurt, haven’t caused issues for the ex and his new wife, just wanted to be here for my son’s senior year. I cry everyday! (age 44, from US)</td>\n",
       "      <td>Should Statements:</td>\n",
       "    </tr>\n",
       "    <tr>\n",
       "      <th>3</th>\n",
       "      <td>3</td>\n",
       "      <td>It has been more than a year now , I feel alone, depressed, don’t feel like talking to anyone, just like to be alone. Also have been too much emotional these days. I don’t have any girl friend or even a person who cares for me , except my mother, in my entire life. This all has started because I cant see my mother not getting respect from my father after staying with him for almost 30 years. I feel this so much , but I am not able to speak on this with either of them. I just keep on crying from inside. I cry while sleeping thinking of all this. This is affecting my behavior and I am no more a social person. I have lost all my friends. Even in office I just talk work. Some of my close friends say that I inspire them with the way I work, but when I come back home I just see all those things which I have seen over the years which makes me to forget the kind of person I am or I was to be. I have never got love. Because of all this my self esteem is gone way low. I am confident when it is work, but when colleagues go for tea break or lunch together I am uncomfortable to go with them as I don’t know or I am not confident on my behavior. I don’t sleep well, I stay awake late nights, get up late in morning. I have lost weight not eating much. Also about my past , I am not been able to do much friendship in school and college as well. Even in my family I have always been kept aside for all important things, they just think that I cant do it just because I don’t speak much. I am fed up of all these, these days and I am seeking for an advice or help. It would be glad if someone can talk to me or can help me to find way out of this. Thanks in advance !! (age 26,from India)</td>\n",
       "      <td>Cognitive Distortion: Overgeneralization -- Drawing sweeping negative conclusions with limited instances.\\n\\nThe individual mentions that they feel alone and depressed after a specific incident involving their mother's lack of respect from their father, but then generalizes this to feeling alone and depressed for the entire year without providing sufficient evidence or context for such a broad conclusion.</td>\n",
       "    </tr>\n",
       "    <tr>\n",
       "      <th>4</th>\n",
       "      <td>4</td>\n",
       "      <td>My sister has autism spectrum disorder, she always had problems with depression and anxiety. She always spoke to herself when we were younger, but about a year ago she got hit by a car and fractured her skull in 12 places. And now she’s different, she has violent tendencies and she says she thinks people are talking about her or staring at her when no one is, she thought my mom and aunt were talking about her but we haven’t seen her in over a month so she couldn’t have known at all. She thinks everyone is out to get her. I tried looking up schizophrenia and the stages of it but it doesn’t quite match up. She feels every emotion, she is very caring, but she needs help but won’t get it because she thinks what she’s hearing is true.</td>\n",
       "      <td>Cognitive Distortion: Mind Reading</td>\n",
       "    </tr>\n",
       "    <tr>\n",
       "      <th>...</th>\n",
       "      <td>...</td>\n",
       "      <td>...</td>\n",
       "      <td>...</td>\n",
       "    </tr>\n",
       "    <tr>\n",
       "      <th>501</th>\n",
       "      <td>501</td>\n",
       "      <td>From India: My brother is 40 years old and he has a habit of quitting jobs for almost 20 years now. He has done post graduation in English Literature; had joined as a lecturer initially. He quit his first job saying that he is not comfortable with teens; gave an explanation that the countries citizens are built in primary. So saying he gave a gap of 1 year; then after much force he joined a school to teach primary kids. He managed to work there for couple of years but then resigned from that job saying the principal isn’t a nice person. There on he continued doing the same thing of joining different schools with a gap of six months to a year for every school. He prefers not to be advised. He doesn’t listen to anybody. If anyone tries to advice or criticize him, he stops having contact with that person like forever. From past 20 years he is just giving excuses like, “Now I am recovering, once I am better I will start fresh.” Actually now is my right age to this, I ll start once I am recovered.”</td>\n",
       "      <td>Should Statements:</td>\n",
       "    </tr>\n",
       "    <tr>\n",
       "      <th>502</th>\n",
       "      <td>502</td>\n",
       "      <td>From the U.S.: I was sexually abused and raped from the ages of 4-8, diagnosed with PTSD as a child, but for various reasons, didn’t start seeking treatment until I was an adult (23, now 25). Therapy has overall been very successful. The next step in my recovery has to do with me having a healthier approach to sex.</td>\n",
       "      <td>Should Statements:</td>\n",
       "    </tr>\n",
       "    <tr>\n",
       "      <th>503</th>\n",
       "      <td>503</td>\n",
       "      <td>My grandsons personality has changed in every way in last two years. he used to be loving, &amp; caring, now he is unsociable, &amp; uncaring. He has no remorse. He seems to be real caring when things are going the way he wants them to. Spaced out and distend when he is just sitting around. If anyone tries to talk to him he dosn’t let them finsh he already knows the answer. He is depressed. I have tried to get help for him, but he is twenty so he has to agree befor I can make make an appointment to see a doctor. Now the big problem is Feb 1 my little dog is missing. I’m very upset about is. My grandson said, to me it is just a dog get another one. Two week later his mothers dog is dead. He said he just fell over dead. he was the only one home. Again he said it is just a dog, what is the big deal.</td>\n",
       "      <td>Should Statements:</td>\n",
       "    </tr>\n",
       "    <tr>\n",
       "      <th>504</th>\n",
       "      <td>504</td>\n",
       "      <td>From Egypt: I was diagnosed with OCD by my doctor and I am sure I have OCD but I have some other symptoms that my doctor said that I have also bipolar disorder and he told me in advanced level of master studies OCD is related to bipolar disorder but I am doubtful so I will tell you these additional symptoms and tell me please if that bipolar or not</td>\n",
       "      <td>Should Statements:</td>\n",
       "    </tr>\n",
       "    <tr>\n",
       "      <th>505</th>\n",
       "      <td>505</td>\n",
       "      <td>I met a my best friend when I was 16 and we started dreaming of doing amazing things. We decided to go to France after highschool (we were 18) and study robotics and then later on founded an NGO about education. I have so much fun learning on my spare time with him all about robotics, and child psychology, how to create workshops to teach children about technology at a young age. All was good except my studies. I never graduated from my associate degree in mechanical engineering and that’s when the lying started. I lied to my family back home in Morocco and I’ve been lying to him. I told everyone that I graduated and that I was enrolled in a Masters of engineering. Trouble came when I had to apply for a renewal to my residence permit in France. I couldn’t provide grade reports so I was refused the stay and had to go back home. That’s when I told my best friend the truth. My mum found out after I got home. The problem now is that there are still people (friends) in my life that I’m still lying to. I’m currently enrolled in an engineering degree in Morocco (after 2 years of only focusing on creating the NGO I mentioned and working with my best friend who didn’t give up on me and slowly got me out of my little depression). How did I let things get to such a bad outcome? I don’t know. I suffer from a serious case of laziness and inconsistency. I know I have the potential to do great things, I still get involved in too much endeavors but I can’t produce results. I still don’t know why. The why that made me lie to my friends and family because it would be a shock to them that i didn’t succeed. I don’t know to extract myself from all this. I really don’t. Help me, doctor.</td>\n",
       "      <td>Cognitive Distortion: Overgeneralization -- Drawing sweeping negative conclusions with limited instances.\\n\\nThe anecdote describes a specific situation where the individual lied about their education and was refused a residence permit in France. However, they mention that there are still people in their life that they're lying to, implying that this is a widespread pattern of behavior. This conclusion seems to be an overgeneralization based on one instance, rather than a comprehensive evaluation of their actions and motivations.</td>\n",
       "    </tr>\n",
       "  </tbody>\n",
       "</table>\n",
       "<p>506 rows × 3 columns</p>\n",
       "</div>"
      ],
      "text/plain": [
       "     Unnamed: 0  \\\n",
       "0             0   \n",
       "1             1   \n",
       "2             2   \n",
       "3             3   \n",
       "4             4   \n",
       "..          ...   \n",
       "501         501   \n",
       "502         502   \n",
       "503         503   \n",
       "504         504   \n",
       "505         505   \n",
       "\n",
       "                                                                                                                                                                                                                                                                                                                                                                                                                                                                                                                                                                                                                                                                                                                                                                                                                                                                                                                                                                                                                                                                                                                                                                                                                                                                                                                                                                                                                                                                                                                                                                                                                                                                                                                                                                                                                                                                                                                                                                                                                                                                                                                                                                                                                                                                                                                 Prompt  \\\n",
       "0    My husband works a lot which really helps our family. The problem is he never wants to go anywhere with my children and me. When he gets home from work, he’s highly irritable and often goes around the house criticizing me for practically everything. Cleaning, watching the kids, what I did or didn’t do during the day, Ext. Most every time I talk with him, he has something negative to say about me. Something I didn’t do right. This is really starting to wear on me. My Self Esteem is pretty bad and this makes it worse. I also get very anxious when I know he’s coming home soon, because I know it is going to be constant critiques. Also, when I ask him if he wants to go someplace with me and the kids, he never wants to and gets upset about it. I get in a bad mood too and he ends up leaving. In which doesn’t make any sense because he said he didn’t want to go anywhere. I have told him how much these things bother me. Every time, he turns around and says what bother him. Nothing gets resolved. I work from home and it’s difficult because I am also watching the kids. He doesn’t like anyone else watching the kids so I try to the majority of the time, unless I have somewhere important to go to. We used to be a lot different. We would go out to dinner, shopping, ext. We would watch TV together and he really didn’t critique me all too much. He used to say good things about me in which he doesn’t say anymore. For example, he used to call me “pretty girl”. He has not said that for awhile now. We have also went through some crap that hurt our relationship. I wasn’t very mature when we started dating so I made some poor decisions that I would never do presently. I’d love to know what changed our relationship so much? Is he acting like this for revenge or because he’s not happy? I can honestly say I’m miserable when I’m around him. I cannot say I’m overall miserable because I do enjoy spending time with my children. My underneath layer is hurt, badly. I feel like my feelings don’t matter. I don’t know when and if to call it quits. We have been married for 6 years and I don’t give up easily. I do love him but I wish he was how he was when we got married. He actually cared and SHOWED me how much he loved me.   \n",
       "1                                                                                                                                                                                                                                                                                                                                                                                                                                                                                                                                                                                                                                                                                                                                                                                                                                                                                                                                                                                                                                                                                                                                                                                                                                                                                                                                                                                                                                                                                                                                                                                                                                                                                                                                                                                                                                                                                                                                                  I used to get many strange looks for the things I did, like smash a bird on the beach with a rock when I was younger, blow fish up with fireworks, laugh when a rock was thrown at a bird and broke its wing, and I also used to abuse pets a lot as well. I used to beat the dog, I would choke my pet hamster until his eyes started bugging out, stuff like that.   \n",
       "2                                                                                                                                                                                                                                                                                                                                                                                                                                                                                                                                                                                                                                                                                                                                                                                                                                                                                                                                                                                                                                                                                                                                                                                                                                                                                                                                                                                                                                                                                                                                                                                                                                                                                                                                                                                                                                                                      Moved to another state left everything for my son who moved here bf me. He lives with dad and stepmom. Been a nightmare since I moved here. Now I have no job, no money, no family support. My friend back home said he’ll get me home, he sends money and not a plane or bus ticket. I’m so sad and hurt, haven’t caused issues for the ex and his new wife, just wanted to be here for my son’s senior year. I cry everyday! (age 44, from US)   \n",
       "3                                                                                                                                                                                                                                                                                                                                                                                                                                                                                                                                                             It has been more than a year now , I feel alone, depressed, don’t feel like talking to anyone, just like to be alone. Also have been too much emotional these days. I don’t have any girl friend or even a person who cares for me , except my mother, in my entire life. This all has started because I cant see my mother not getting respect from my father after staying with him for almost 30 years. I feel this so much , but I am not able to speak on this with either of them. I just keep on crying from inside. I cry while sleeping thinking of all this. This is affecting my behavior and I am no more a social person. I have lost all my friends. Even in office I just talk work. Some of my close friends say that I inspire them with the way I work, but when I come back home I just see all those things which I have seen over the years which makes me to forget the kind of person I am or I was to be. I have never got love. Because of all this my self esteem is gone way low. I am confident when it is work, but when colleagues go for tea break or lunch together I am uncomfortable to go with them as I don’t know or I am not confident on my behavior. I don’t sleep well, I stay awake late nights, get up late in morning. I have lost weight not eating much. Also about my past , I am not been able to do much friendship in school and college as well. Even in my family I have always been kept aside for all important things, they just think that I cant do it just because I don’t speak much. I am fed up of all these, these days and I am seeking for an advice or help. It would be glad if someone can talk to me or can help me to find way out of this. Thanks in advance !! (age 26,from India)   \n",
       "4                                                                                                                                                                                                                                                                                                                                                                                                                                                                                                                                                                                                                                                                                                                                                                                                                                                                                                                                                                                                                                                                                                                                                                                                                                                                                                                                                                                                                                                                                                                                                   My sister has autism spectrum disorder, she always had problems with depression and anxiety. She always spoke to herself when we were younger, but about a year ago she got hit by a car and fractured her skull in 12 places. And now she’s different, she has violent tendencies and she says she thinks people are talking about her or staring at her when no one is, she thought my mom and aunt were talking about her but we haven’t seen her in over a month so she couldn’t have known at all. She thinks everyone is out to get her. I tried looking up schizophrenia and the stages of it but it doesn’t quite match up. She feels every emotion, she is very caring, but she needs help but won’t get it because she thinks what she’s hearing is true.   \n",
       "..                                                                                                                                                                                                                                                                                                                                                                                                                                                                                                                                                                                                                                                                                                                                                                                                                                                                                                                                                                                                                                                                                                                                                                                                                                                                                                                                                                                                                                                                                                                                                                                                                                                                                                                                                                                                                                                                                                                                                                                                                                                                                                                                                                                                                                                                                                                  ...   \n",
       "501                                                                                                                                                                                                                                                                                                                                                                                                                                                                                                                                                                                                                                                                                                                                                                                                                                                                                                                                                                                                                                                                                                                                                                                                                                                                    From India: My brother is 40 years old and he has a habit of quitting jobs for almost 20 years now. He has done post graduation in English Literature; had joined as a lecturer initially. He quit his first job saying that he is not comfortable with teens; gave an explanation that the countries citizens are built in primary. So saying he gave a gap of 1 year; then after much force he joined a school to teach primary kids. He managed to work there for couple of years but then resigned from that job saying the principal isn’t a nice person. There on he continued doing the same thing of joining different schools with a gap of six months to a year for every school. He prefers not to be advised. He doesn’t listen to anybody. If anyone tries to advice or criticize him, he stops having contact with that person like forever. From past 20 years he is just giving excuses like, “Now I am recovering, once I am better I will start fresh.” Actually now is my right age to this, I ll start once I am recovered.”   \n",
       "502                                                                                                                                                                                                                                                                                                                                                                                                                                                                                                                                                                                                                                                                                                                                                                                                                                                                                                                                                                                                                                                                                                                                                                                                                                                                                                                                                                                                                                                                                                                                                                                                                                                                                                                                                                                                                                                                                                                                                                                        From the U.S.: I was sexually abused and raped from the ages of 4-8, diagnosed with PTSD as a child, but for various reasons, didn’t start seeking treatment until I was an adult (23, now 25). Therapy has overall been very successful. The next step in my recovery has to do with me having a healthier approach to sex.   \n",
       "503                                                                                                                                                                                                                                                                                                                                                                                                                                                                                                                                                                                                                                                                                                                                                                                                                                                                                                                                                                                                                                                                                                                                                                                                                                                                                                                                                                                                                                                                                     My grandsons personality has changed in every way in last two years. he used to be loving, & caring, now he is unsociable, & uncaring. He has no remorse. He seems to be real caring when things are going the way he wants them to. Spaced out and distend when he is just sitting around. If anyone tries to talk to him he dosn’t let them finsh he already knows the answer. He is depressed. I have tried to get help for him, but he is twenty so he has to agree befor I can make make an appointment to see a doctor. Now the big problem is Feb 1 my little dog is missing. I’m very upset about is. My grandson said, to me it is just a dog get another one. Two week later his mothers dog is dead. He said he just fell over dead. he was the only one home. Again he said it is just a dog, what is the big deal.   \n",
       "504                                                                                                                                                                                                                                                                                                                                                                                                                                                                                                                                                                                                                                                                                                                                                                                                                                                                                                                                                                                                                                                                                                                                                                                                                                                                                                                                                                                                                                                                                                                                                                                                                                                                                                                                                                                                                                                                                                                                                      From Egypt: I was diagnosed with OCD by my doctor and I am sure I have OCD but I have some other symptoms that my doctor said that I have also bipolar disorder and he told me in advanced level of master studies OCD is related to bipolar disorder but I am doubtful so I will tell you these additional symptoms and tell me please if that bipolar or not   \n",
       "505                                                                                                                                                                                                                                                                                                                                                                                                                                                                                                                                                       I met a my best friend when I was 16 and we started dreaming of doing amazing things. We decided to go to France after highschool (we were 18) and study robotics and then later on founded an NGO about education. I have so much fun learning on my spare time with him all about robotics, and child psychology, how to create workshops to teach children about technology at a young age. All was good except my studies. I never graduated from my associate degree in mechanical engineering and that’s when the lying started. I lied to my family back home in Morocco and I’ve been lying to him. I told everyone that I graduated and that I was enrolled in a Masters of engineering. Trouble came when I had to apply for a renewal to my residence permit in France. I couldn’t provide grade reports so I was refused the stay and had to go back home. That’s when I told my best friend the truth. My mum found out after I got home. The problem now is that there are still people (friends) in my life that I’m still lying to. I’m currently enrolled in an engineering degree in Morocco (after 2 years of only focusing on creating the NGO I mentioned and working with my best friend who didn’t give up on me and slowly got me out of my little depression). How did I let things get to such a bad outcome? I don’t know. I suffer from a serious case of laziness and inconsistency. I know I have the potential to do great things, I still get involved in too much endeavors but I can’t produce results. I still don’t know why. The why that made me lie to my friends and family because it would be a shock to them that i didn’t succeed. I don’t know to extract myself from all this. I really don’t. Help me, doctor.   \n",
       "\n",
       "                                                                                                                                                                                                                                                                                                                                                                                                                                                                                                                                                    Response  \n",
       "0                                                                                                 Cognitive Distortion: Overgeneralization -- Drawing sweeping negative conclusions with limited instances.\\n\\nThe anecdote describes a pattern of behavior where the husband is critical and irritable, but it's not clear if this is consistent across all situations or just specific ones. The wife mentions that they used to be different and he would say positive things about her, suggesting that there may be exceptions to his current behavior.  \n",
       "1                                                                                                                                                                                                                                                                                                                                                                                                                I cannot provide a response that trivializes or condones harmful behavior such as animal abuse. Is there anything else I can help you with?  \n",
       "2                                                                                                                                                                                                                                                                                                                                                                                                                                                                                                                                         Should Statements:  \n",
       "3                                                                                                                                   Cognitive Distortion: Overgeneralization -- Drawing sweeping negative conclusions with limited instances.\\n\\nThe individual mentions that they feel alone and depressed after a specific incident involving their mother's lack of respect from their father, but then generalizes this to feeling alone and depressed for the entire year without providing sufficient evidence or context for such a broad conclusion.  \n",
       "4                                                                                                                                                                                                                                                                                                                                                                                                                                                                                                                         Cognitive Distortion: Mind Reading  \n",
       "..                                                                                                                                                                                                                                                                                                                                                                                                                                                                                                                                                       ...  \n",
       "501                                                                                                                                                                                                                                                                                                                                                                                                                                                                                                                                       Should Statements:  \n",
       "502                                                                                                                                                                                                                                                                                                                                                                                                                                                                                                                                       Should Statements:  \n",
       "503                                                                                                                                                                                                                                                                                                                                                                                                                                                                                                                                       Should Statements:  \n",
       "504                                                                                                                                                                                                                                                                                                                                                                                                                                                                                                                                       Should Statements:  \n",
       "505  Cognitive Distortion: Overgeneralization -- Drawing sweeping negative conclusions with limited instances.\\n\\nThe anecdote describes a specific situation where the individual lied about their education and was refused a residence permit in France. However, they mention that there are still people in their life that they're lying to, implying that this is a widespread pattern of behavior. This conclusion seems to be an overgeneralization based on one instance, rather than a comprehensive evaluation of their actions and motivations.  \n",
       "\n",
       "[506 rows x 3 columns]"
      ]
     },
     "execution_count": 35,
     "metadata": {},
     "output_type": "execute_result"
    }
   ],
   "source": [
    "#Make this your results directory\n",
    "os.chdir('/Users/ulugsali/Desktop/Cognitive-Distortion-Project/results/')\n",
    "eval_path = 'multiclass/expert/llama3.2-3b/zero-shot.csv'\n",
    "\n",
    "inference_df = pd.read_csv(eval_path)\n",
    "pd.set_option('display.max_colwidth', None) \n",
    "inference_df"
   ]
  },
  {
   "cell_type": "markdown",
   "metadata": {},
   "source": [
    "Fix Common Variations"
   ]
  },
  {
   "cell_type": "code",
   "execution_count": 36,
   "metadata": {},
   "outputs": [
    {
     "data": {
      "text/html": [
       "<div>\n",
       "<style scoped>\n",
       "    .dataframe tbody tr th:only-of-type {\n",
       "        vertical-align: middle;\n",
       "    }\n",
       "\n",
       "    .dataframe tbody tr th {\n",
       "        vertical-align: top;\n",
       "    }\n",
       "\n",
       "    .dataframe thead th {\n",
       "        text-align: right;\n",
       "    }\n",
       "</style>\n",
       "<table border=\"1\" class=\"dataframe\">\n",
       "  <thead>\n",
       "    <tr style=\"text-align: right;\">\n",
       "      <th></th>\n",
       "      <th>Unnamed: 0</th>\n",
       "      <th>Prompt</th>\n",
       "      <th>Response</th>\n",
       "    </tr>\n",
       "  </thead>\n",
       "  <tbody>\n",
       "    <tr>\n",
       "      <th>0</th>\n",
       "      <td>0</td>\n",
       "      <td>My husband works a lot which really helps our family. The problem is he never wants to go anywhere with my children and me. When he gets home from work, he’s highly irritable and often goes around the house criticizing me for practically everything. Cleaning, watching the kids, what I did or didn’t do during the day, Ext. Most every time I talk with him, he has something negative to say about me. Something I didn’t do right. This is really starting to wear on me. My Self Esteem is pretty bad and this makes it worse. I also get very anxious when I know he’s coming home soon, because I know it is going to be constant critiques. Also, when I ask him if he wants to go someplace with me and the kids, he never wants to and gets upset about it. I get in a bad mood too and he ends up leaving. In which doesn’t make any sense because he said he didn’t want to go anywhere. I have told him how much these things bother me. Every time, he turns around and says what bother him. Nothing gets resolved. I work from home and it’s difficult because I am also watching the kids. He doesn’t like anyone else watching the kids so I try to the majority of the time, unless I have somewhere important to go to. We used to be a lot different. We would go out to dinner, shopping, ext. We would watch TV together and he really didn’t critique me all too much. He used to say good things about me in which he doesn’t say anymore. For example, he used to call me “pretty girl”. He has not said that for awhile now. We have also went through some crap that hurt our relationship. I wasn’t very mature when we started dating so I made some poor decisions that I would never do presently. I’d love to know what changed our relationship so much? Is he acting like this for revenge or because he’s not happy? I can honestly say I’m miserable when I’m around him. I cannot say I’m overall miserable because I do enjoy spending time with my children. My underneath layer is hurt, badly. I feel like my feelings don’t matter. I don’t know when and if to call it quits. We have been married for 6 years and I don’t give up easily. I do love him but I wish he was how he was when we got married. He actually cared and SHOWED me how much he loved me.</td>\n",
       "      <td>cognitive distortion overgeneralization  drawing sweeping negative conclusions with limited instances\\n\\nthe anecdote describes a pattern of behavior where the husband is critical and irritable but its not clear if this is consistent across all situations or just specific ones the wife mentions that they used to be different and he would say positive things about her suggesting that there may be exceptions to his current behavior</td>\n",
       "    </tr>\n",
       "    <tr>\n",
       "      <th>1</th>\n",
       "      <td>1</td>\n",
       "      <td>I used to get many strange looks for the things I did, like smash a bird on the beach with a rock when I was younger, blow fish up with fireworks, laugh when a rock was thrown at a bird and broke its wing, and I also used to abuse pets a lot as well. I used to beat the dog, I would choke my pet hamster until his eyes started bugging out, stuff like that.</td>\n",
       "      <td>i cannot provide a response that trivializes or condones harmful behavior such as animal abuse is there anything else i can help you with</td>\n",
       "    </tr>\n",
       "    <tr>\n",
       "      <th>2</th>\n",
       "      <td>2</td>\n",
       "      <td>Moved to another state left everything for my son who moved here bf me. He lives with dad and stepmom. Been a nightmare since I moved here. Now I have no job, no money, no family support. My friend back home said he’ll get me home, he sends money and not a plane or bus ticket. I’m so sad and hurt, haven’t caused issues for the ex and his new wife, just wanted to be here for my son’s senior year. I cry everyday! (age 44, from US)</td>\n",
       "      <td>should statements</td>\n",
       "    </tr>\n",
       "    <tr>\n",
       "      <th>3</th>\n",
       "      <td>3</td>\n",
       "      <td>It has been more than a year now , I feel alone, depressed, don’t feel like talking to anyone, just like to be alone. Also have been too much emotional these days. I don’t have any girl friend or even a person who cares for me , except my mother, in my entire life. This all has started because I cant see my mother not getting respect from my father after staying with him for almost 30 years. I feel this so much , but I am not able to speak on this with either of them. I just keep on crying from inside. I cry while sleeping thinking of all this. This is affecting my behavior and I am no more a social person. I have lost all my friends. Even in office I just talk work. Some of my close friends say that I inspire them with the way I work, but when I come back home I just see all those things which I have seen over the years which makes me to forget the kind of person I am or I was to be. I have never got love. Because of all this my self esteem is gone way low. I am confident when it is work, but when colleagues go for tea break or lunch together I am uncomfortable to go with them as I don’t know or I am not confident on my behavior. I don’t sleep well, I stay awake late nights, get up late in morning. I have lost weight not eating much. Also about my past , I am not been able to do much friendship in school and college as well. Even in my family I have always been kept aside for all important things, they just think that I cant do it just because I don’t speak much. I am fed up of all these, these days and I am seeking for an advice or help. It would be glad if someone can talk to me or can help me to find way out of this. Thanks in advance !! (age 26,from India)</td>\n",
       "      <td>cognitive distortion overgeneralization  drawing sweeping negative conclusions with limited instances\\n\\nthe individual mentions that they feel alone and depressed after a specific incident involving their mothers lack of respect from their father but then generalizes this to feeling alone and depressed for the entire year without providing sufficient evidence or context for such a broad conclusion</td>\n",
       "    </tr>\n",
       "    <tr>\n",
       "      <th>4</th>\n",
       "      <td>4</td>\n",
       "      <td>My sister has autism spectrum disorder, she always had problems with depression and anxiety. She always spoke to herself when we were younger, but about a year ago she got hit by a car and fractured her skull in 12 places. And now she’s different, she has violent tendencies and she says she thinks people are talking about her or staring at her when no one is, she thought my mom and aunt were talking about her but we haven’t seen her in over a month so she couldn’t have known at all. She thinks everyone is out to get her. I tried looking up schizophrenia and the stages of it but it doesn’t quite match up. She feels every emotion, she is very caring, but she needs help but won’t get it because she thinks what she’s hearing is true.</td>\n",
       "      <td>cognitive distortion mind reading</td>\n",
       "    </tr>\n",
       "  </tbody>\n",
       "</table>\n",
       "</div>"
      ],
      "text/plain": [
       "   Unnamed: 0  \\\n",
       "0           0   \n",
       "1           1   \n",
       "2           2   \n",
       "3           3   \n",
       "4           4   \n",
       "\n",
       "                                                                                                                                                                                                                                                                                                                                                                                                                                                                                                                                                                                                                                                                                                                                                                                                                                                                                                                                                                                                                                                                                                                                                                                                                                                                                                                                                                                                                                                                                                                                                                                                                                                                                                                                                                                                                                                                                                                                                                                                                                                                                                                                                                                                                                                                                                               Prompt  \\\n",
       "0  My husband works a lot which really helps our family. The problem is he never wants to go anywhere with my children and me. When he gets home from work, he’s highly irritable and often goes around the house criticizing me for practically everything. Cleaning, watching the kids, what I did or didn’t do during the day, Ext. Most every time I talk with him, he has something negative to say about me. Something I didn’t do right. This is really starting to wear on me. My Self Esteem is pretty bad and this makes it worse. I also get very anxious when I know he’s coming home soon, because I know it is going to be constant critiques. Also, when I ask him if he wants to go someplace with me and the kids, he never wants to and gets upset about it. I get in a bad mood too and he ends up leaving. In which doesn’t make any sense because he said he didn’t want to go anywhere. I have told him how much these things bother me. Every time, he turns around and says what bother him. Nothing gets resolved. I work from home and it’s difficult because I am also watching the kids. He doesn’t like anyone else watching the kids so I try to the majority of the time, unless I have somewhere important to go to. We used to be a lot different. We would go out to dinner, shopping, ext. We would watch TV together and he really didn’t critique me all too much. He used to say good things about me in which he doesn’t say anymore. For example, he used to call me “pretty girl”. He has not said that for awhile now. We have also went through some crap that hurt our relationship. I wasn’t very mature when we started dating so I made some poor decisions that I would never do presently. I’d love to know what changed our relationship so much? Is he acting like this for revenge or because he’s not happy? I can honestly say I’m miserable when I’m around him. I cannot say I’m overall miserable because I do enjoy spending time with my children. My underneath layer is hurt, badly. I feel like my feelings don’t matter. I don’t know when and if to call it quits. We have been married for 6 years and I don’t give up easily. I do love him but I wish he was how he was when we got married. He actually cared and SHOWED me how much he loved me.   \n",
       "1                                                                                                                                                                                                                                                                                                                                                                                                                                                                                                                                                                                                                                                                                                                                                                                                                                                                                                                                                                                                                                                                                                                                                                                                                                                                                                                                                                                                                                                                                                                                                                                                                                                                                                                                                                                                                                                                                                                                                I used to get many strange looks for the things I did, like smash a bird on the beach with a rock when I was younger, blow fish up with fireworks, laugh when a rock was thrown at a bird and broke its wing, and I also used to abuse pets a lot as well. I used to beat the dog, I would choke my pet hamster until his eyes started bugging out, stuff like that.   \n",
       "2                                                                                                                                                                                                                                                                                                                                                                                                                                                                                                                                                                                                                                                                                                                                                                                                                                                                                                                                                                                                                                                                                                                                                                                                                                                                                                                                                                                                                                                                                                                                                                                                                                                                                                                                                                                                                                                                    Moved to another state left everything for my son who moved here bf me. He lives with dad and stepmom. Been a nightmare since I moved here. Now I have no job, no money, no family support. My friend back home said he’ll get me home, he sends money and not a plane or bus ticket. I’m so sad and hurt, haven’t caused issues for the ex and his new wife, just wanted to be here for my son’s senior year. I cry everyday! (age 44, from US)   \n",
       "3                                                                                                                                                                                                                                                                                                                                                                                                                                                                                                                                                           It has been more than a year now , I feel alone, depressed, don’t feel like talking to anyone, just like to be alone. Also have been too much emotional these days. I don’t have any girl friend or even a person who cares for me , except my mother, in my entire life. This all has started because I cant see my mother not getting respect from my father after staying with him for almost 30 years. I feel this so much , but I am not able to speak on this with either of them. I just keep on crying from inside. I cry while sleeping thinking of all this. This is affecting my behavior and I am no more a social person. I have lost all my friends. Even in office I just talk work. Some of my close friends say that I inspire them with the way I work, but when I come back home I just see all those things which I have seen over the years which makes me to forget the kind of person I am or I was to be. I have never got love. Because of all this my self esteem is gone way low. I am confident when it is work, but when colleagues go for tea break or lunch together I am uncomfortable to go with them as I don’t know or I am not confident on my behavior. I don’t sleep well, I stay awake late nights, get up late in morning. I have lost weight not eating much. Also about my past , I am not been able to do much friendship in school and college as well. Even in my family I have always been kept aside for all important things, they just think that I cant do it just because I don’t speak much. I am fed up of all these, these days and I am seeking for an advice or help. It would be glad if someone can talk to me or can help me to find way out of this. Thanks in advance !! (age 26,from India)   \n",
       "4                                                                                                                                                                                                                                                                                                                                                                                                                                                                                                                                                                                                                                                                                                                                                                                                                                                                                                                                                                                                                                                                                                                                                                                                                                                                                                                                                                                                                                                                                                                                                 My sister has autism spectrum disorder, she always had problems with depression and anxiety. She always spoke to herself when we were younger, but about a year ago she got hit by a car and fractured her skull in 12 places. And now she’s different, she has violent tendencies and she says she thinks people are talking about her or staring at her when no one is, she thought my mom and aunt were talking about her but we haven’t seen her in over a month so she couldn’t have known at all. She thinks everyone is out to get her. I tried looking up schizophrenia and the stages of it but it doesn’t quite match up. She feels every emotion, she is very caring, but she needs help but won’t get it because she thinks what she’s hearing is true.   \n",
       "\n",
       "                                                                                                                                                                                                                                                                                                                                                                                                                                            Response  \n",
       "0  cognitive distortion overgeneralization  drawing sweeping negative conclusions with limited instances\\n\\nthe anecdote describes a pattern of behavior where the husband is critical and irritable but its not clear if this is consistent across all situations or just specific ones the wife mentions that they used to be different and he would say positive things about her suggesting that there may be exceptions to his current behavior  \n",
       "1                                                                                                                                                                                                                                                                                                          i cannot provide a response that trivializes or condones harmful behavior such as animal abuse is there anything else i can help you with  \n",
       "2                                                                                                                                                                                                                                                                                                                                                                                                                                  should statements  \n",
       "3                                  cognitive distortion overgeneralization  drawing sweeping negative conclusions with limited instances\\n\\nthe individual mentions that they feel alone and depressed after a specific incident involving their mothers lack of respect from their father but then generalizes this to feeling alone and depressed for the entire year without providing sufficient evidence or context for such a broad conclusion  \n",
       "4                                                                                                                                                                                                                                                                                                                                                                                                                  cognitive distortion mind reading  "
      ]
     },
     "execution_count": 36,
     "metadata": {},
     "output_type": "execute_result"
    }
   ],
   "source": [
    "def remove_punctuation(text):\n",
    "    return re.sub(r'[^\\w\\s]', '', text)\n",
    "\n",
    "inference_df['Response'] = inference_df['Response'].apply(lambda x: x.lower())   \n",
    "inference_df['Response'] = inference_df['Response'].apply(remove_punctuation)  \n",
    "\n",
    "inference_df.head()"
   ]
  },
  {
   "cell_type": "markdown",
   "metadata": {},
   "source": [
    "Create Mapping Function"
   ]
  },
  {
   "cell_type": "code",
   "execution_count": 37,
   "metadata": {},
   "outputs": [],
   "source": [
    "distortions = {\n",
    "    'none': 0,\n",
    "    'no distortion': 0,\n",
    "    'emotional reasoning': 1,\n",
    "    'overgeneralization': 2,\n",
    "    'mental filter': 3,\n",
    "    'should statements': 4,\n",
    "    'all-or-nothing thinking': 5,\n",
    "    'mind reading': 6,\n",
    "    'fortune telling': 7,\n",
    "    'magnification': 8,\n",
    "    'personalization': 9,\n",
    "    'labeling': 10,\n",
    "}\n",
    "\n",
    "patterns = {\n",
    "    'none': r'\\bnone\\b',\n",
    "    'no distortion': r'\\bno distortion\\b',\n",
    "    'emotional reasoning': r'\\bemotional reasoning\\b',\n",
    "    'overgeneralization': r'\\bovergeneralization\\b',\n",
    "    'mental filter': r'\\bmental filter\\b',\n",
    "    'should statements': r'\\bshould statements\\b',\n",
    "    'all-or-nothing thinking': r'\\ball-or-nothing thinking\\b',\n",
    "    'mind reading': r'\\bmind reading\\b',\n",
    "    'fortune telling': r'\\bfortune[-\\s]telling\\b',\n",
    "    'magnification': r'\\bmagnification\\b',\n",
    "    'personalization': r'\\bpersonalization\\b',\n",
    "    'labeling': r'\\blabeling\\b',\n",
    "}\n",
    "\n",
    "def catch_responses(x):\n",
    "    normalized_text = re.sub(r'[^\\w\\s]', '', x.lower())\n",
    "    for label, pattern in patterns.items():\n",
    "        if re.search(pattern, normalized_text):\n",
    "            return distortions[label]\n",
    "    return -1"
   ]
  },
  {
   "cell_type": "markdown",
   "metadata": {},
   "source": [
    "Map common desired input, display any that are undesired for fine handling... For me, any denial should be thrown away (by being labelled -1)."
   ]
  },
  {
   "cell_type": "code",
   "execution_count": 38,
   "metadata": {},
   "outputs": [
    {
     "data": {
      "text/html": [
       "<div>\n",
       "<style scoped>\n",
       "    .dataframe tbody tr th:only-of-type {\n",
       "        vertical-align: middle;\n",
       "    }\n",
       "\n",
       "    .dataframe tbody tr th {\n",
       "        vertical-align: top;\n",
       "    }\n",
       "\n",
       "    .dataframe thead th {\n",
       "        text-align: right;\n",
       "    }\n",
       "</style>\n",
       "<table border=\"1\" class=\"dataframe\">\n",
       "  <thead>\n",
       "    <tr style=\"text-align: right;\">\n",
       "      <th></th>\n",
       "      <th>Unnamed: 0</th>\n",
       "      <th>Prompt</th>\n",
       "      <th>Response</th>\n",
       "    </tr>\n",
       "  </thead>\n",
       "  <tbody>\n",
       "    <tr>\n",
       "      <th>0</th>\n",
       "      <td>0</td>\n",
       "      <td>My husband works a lot which really helps our family. The problem is he never wants to go anywhere with my children and me. When he gets home from work, he’s highly irritable and often goes around the house criticizing me for practically everything. Cleaning, watching the kids, what I did or didn’t do during the day, Ext. Most every time I talk with him, he has something negative to say about me. Something I didn’t do right. This is really starting to wear on me. My Self Esteem is pretty bad and this makes it worse. I also get very anxious when I know he’s coming home soon, because I know it is going to be constant critiques. Also, when I ask him if he wants to go someplace with me and the kids, he never wants to and gets upset about it. I get in a bad mood too and he ends up leaving. In which doesn’t make any sense because he said he didn’t want to go anywhere. I have told him how much these things bother me. Every time, he turns around and says what bother him. Nothing gets resolved. I work from home and it’s difficult because I am also watching the kids. He doesn’t like anyone else watching the kids so I try to the majority of the time, unless I have somewhere important to go to. We used to be a lot different. We would go out to dinner, shopping, ext. We would watch TV together and he really didn’t critique me all too much. He used to say good things about me in which he doesn’t say anymore. For example, he used to call me “pretty girl”. He has not said that for awhile now. We have also went through some crap that hurt our relationship. I wasn’t very mature when we started dating so I made some poor decisions that I would never do presently. I’d love to know what changed our relationship so much? Is he acting like this for revenge or because he’s not happy? I can honestly say I’m miserable when I’m around him. I cannot say I’m overall miserable because I do enjoy spending time with my children. My underneath layer is hurt, badly. I feel like my feelings don’t matter. I don’t know when and if to call it quits. We have been married for 6 years and I don’t give up easily. I do love him but I wish he was how he was when we got married. He actually cared and SHOWED me how much he loved me.</td>\n",
       "      <td>2</td>\n",
       "    </tr>\n",
       "    <tr>\n",
       "      <th>1</th>\n",
       "      <td>1</td>\n",
       "      <td>I used to get many strange looks for the things I did, like smash a bird on the beach with a rock when I was younger, blow fish up with fireworks, laugh when a rock was thrown at a bird and broke its wing, and I also used to abuse pets a lot as well. I used to beat the dog, I would choke my pet hamster until his eyes started bugging out, stuff like that.</td>\n",
       "      <td>-1</td>\n",
       "    </tr>\n",
       "    <tr>\n",
       "      <th>2</th>\n",
       "      <td>2</td>\n",
       "      <td>Moved to another state left everything for my son who moved here bf me. He lives with dad and stepmom. Been a nightmare since I moved here. Now I have no job, no money, no family support. My friend back home said he’ll get me home, he sends money and not a plane or bus ticket. I’m so sad and hurt, haven’t caused issues for the ex and his new wife, just wanted to be here for my son’s senior year. I cry everyday! (age 44, from US)</td>\n",
       "      <td>4</td>\n",
       "    </tr>\n",
       "    <tr>\n",
       "      <th>3</th>\n",
       "      <td>3</td>\n",
       "      <td>It has been more than a year now , I feel alone, depressed, don’t feel like talking to anyone, just like to be alone. Also have been too much emotional these days. I don’t have any girl friend or even a person who cares for me , except my mother, in my entire life. This all has started because I cant see my mother not getting respect from my father after staying with him for almost 30 years. I feel this so much , but I am not able to speak on this with either of them. I just keep on crying from inside. I cry while sleeping thinking of all this. This is affecting my behavior and I am no more a social person. I have lost all my friends. Even in office I just talk work. Some of my close friends say that I inspire them with the way I work, but when I come back home I just see all those things which I have seen over the years which makes me to forget the kind of person I am or I was to be. I have never got love. Because of all this my self esteem is gone way low. I am confident when it is work, but when colleagues go for tea break or lunch together I am uncomfortable to go with them as I don’t know or I am not confident on my behavior. I don’t sleep well, I stay awake late nights, get up late in morning. I have lost weight not eating much. Also about my past , I am not been able to do much friendship in school and college as well. Even in my family I have always been kept aside for all important things, they just think that I cant do it just because I don’t speak much. I am fed up of all these, these days and I am seeking for an advice or help. It would be glad if someone can talk to me or can help me to find way out of this. Thanks in advance !! (age 26,from India)</td>\n",
       "      <td>2</td>\n",
       "    </tr>\n",
       "    <tr>\n",
       "      <th>4</th>\n",
       "      <td>4</td>\n",
       "      <td>My sister has autism spectrum disorder, she always had problems with depression and anxiety. She always spoke to herself when we were younger, but about a year ago she got hit by a car and fractured her skull in 12 places. And now she’s different, she has violent tendencies and she says she thinks people are talking about her or staring at her when no one is, she thought my mom and aunt were talking about her but we haven’t seen her in over a month so she couldn’t have known at all. She thinks everyone is out to get her. I tried looking up schizophrenia and the stages of it but it doesn’t quite match up. She feels every emotion, she is very caring, but she needs help but won’t get it because she thinks what she’s hearing is true.</td>\n",
       "      <td>6</td>\n",
       "    </tr>\n",
       "  </tbody>\n",
       "</table>\n",
       "</div>"
      ],
      "text/plain": [
       "   Unnamed: 0  \\\n",
       "0           0   \n",
       "1           1   \n",
       "2           2   \n",
       "3           3   \n",
       "4           4   \n",
       "\n",
       "                                                                                                                                                                                                                                                                                                                                                                                                                                                                                                                                                                                                                                                                                                                                                                                                                                                                                                                                                                                                                                                                                                                                                                                                                                                                                                                                                                                                                                                                                                                                                                                                                                                                                                                                                                                                                                                                                                                                                                                                                                                                                                                                                                                                                                                                                                               Prompt  \\\n",
       "0  My husband works a lot which really helps our family. The problem is he never wants to go anywhere with my children and me. When he gets home from work, he’s highly irritable and often goes around the house criticizing me for practically everything. Cleaning, watching the kids, what I did or didn’t do during the day, Ext. Most every time I talk with him, he has something negative to say about me. Something I didn’t do right. This is really starting to wear on me. My Self Esteem is pretty bad and this makes it worse. I also get very anxious when I know he’s coming home soon, because I know it is going to be constant critiques. Also, when I ask him if he wants to go someplace with me and the kids, he never wants to and gets upset about it. I get in a bad mood too and he ends up leaving. In which doesn’t make any sense because he said he didn’t want to go anywhere. I have told him how much these things bother me. Every time, he turns around and says what bother him. Nothing gets resolved. I work from home and it’s difficult because I am also watching the kids. He doesn’t like anyone else watching the kids so I try to the majority of the time, unless I have somewhere important to go to. We used to be a lot different. We would go out to dinner, shopping, ext. We would watch TV together and he really didn’t critique me all too much. He used to say good things about me in which he doesn’t say anymore. For example, he used to call me “pretty girl”. He has not said that for awhile now. We have also went through some crap that hurt our relationship. I wasn’t very mature when we started dating so I made some poor decisions that I would never do presently. I’d love to know what changed our relationship so much? Is he acting like this for revenge or because he’s not happy? I can honestly say I’m miserable when I’m around him. I cannot say I’m overall miserable because I do enjoy spending time with my children. My underneath layer is hurt, badly. I feel like my feelings don’t matter. I don’t know when and if to call it quits. We have been married for 6 years and I don’t give up easily. I do love him but I wish he was how he was when we got married. He actually cared and SHOWED me how much he loved me.   \n",
       "1                                                                                                                                                                                                                                                                                                                                                                                                                                                                                                                                                                                                                                                                                                                                                                                                                                                                                                                                                                                                                                                                                                                                                                                                                                                                                                                                                                                                                                                                                                                                                                                                                                                                                                                                                                                                                                                                                                                                                I used to get many strange looks for the things I did, like smash a bird on the beach with a rock when I was younger, blow fish up with fireworks, laugh when a rock was thrown at a bird and broke its wing, and I also used to abuse pets a lot as well. I used to beat the dog, I would choke my pet hamster until his eyes started bugging out, stuff like that.   \n",
       "2                                                                                                                                                                                                                                                                                                                                                                                                                                                                                                                                                                                                                                                                                                                                                                                                                                                                                                                                                                                                                                                                                                                                                                                                                                                                                                                                                                                                                                                                                                                                                                                                                                                                                                                                                                                                                                                                    Moved to another state left everything for my son who moved here bf me. He lives with dad and stepmom. Been a nightmare since I moved here. Now I have no job, no money, no family support. My friend back home said he’ll get me home, he sends money and not a plane or bus ticket. I’m so sad and hurt, haven’t caused issues for the ex and his new wife, just wanted to be here for my son’s senior year. I cry everyday! (age 44, from US)   \n",
       "3                                                                                                                                                                                                                                                                                                                                                                                                                                                                                                                                                           It has been more than a year now , I feel alone, depressed, don’t feel like talking to anyone, just like to be alone. Also have been too much emotional these days. I don’t have any girl friend or even a person who cares for me , except my mother, in my entire life. This all has started because I cant see my mother not getting respect from my father after staying with him for almost 30 years. I feel this so much , but I am not able to speak on this with either of them. I just keep on crying from inside. I cry while sleeping thinking of all this. This is affecting my behavior and I am no more a social person. I have lost all my friends. Even in office I just talk work. Some of my close friends say that I inspire them with the way I work, but when I come back home I just see all those things which I have seen over the years which makes me to forget the kind of person I am or I was to be. I have never got love. Because of all this my self esteem is gone way low. I am confident when it is work, but when colleagues go for tea break or lunch together I am uncomfortable to go with them as I don’t know or I am not confident on my behavior. I don’t sleep well, I stay awake late nights, get up late in morning. I have lost weight not eating much. Also about my past , I am not been able to do much friendship in school and college as well. Even in my family I have always been kept aside for all important things, they just think that I cant do it just because I don’t speak much. I am fed up of all these, these days and I am seeking for an advice or help. It would be glad if someone can talk to me or can help me to find way out of this. Thanks in advance !! (age 26,from India)   \n",
       "4                                                                                                                                                                                                                                                                                                                                                                                                                                                                                                                                                                                                                                                                                                                                                                                                                                                                                                                                                                                                                                                                                                                                                                                                                                                                                                                                                                                                                                                                                                                                                 My sister has autism spectrum disorder, she always had problems with depression and anxiety. She always spoke to herself when we were younger, but about a year ago she got hit by a car and fractured her skull in 12 places. And now she’s different, she has violent tendencies and she says she thinks people are talking about her or staring at her when no one is, she thought my mom and aunt were talking about her but we haven’t seen her in over a month so she couldn’t have known at all. She thinks everyone is out to get her. I tried looking up schizophrenia and the stages of it but it doesn’t quite match up. She feels every emotion, she is very caring, but she needs help but won’t get it because she thinks what she’s hearing is true.   \n",
       "\n",
       "   Response  \n",
       "0         2  \n",
       "1        -1  \n",
       "2         4  \n",
       "3         2  \n",
       "4         6  "
      ]
     },
     "execution_count": 38,
     "metadata": {},
     "output_type": "execute_result"
    }
   ],
   "source": [
    "inference_df['Response'] = inference_df['Response'].apply(catch_responses)\n",
    "inference_df.head()"
   ]
  },
  {
   "cell_type": "markdown",
   "metadata": {},
   "source": [
    "Gather Gold Data"
   ]
  },
  {
   "cell_type": "code",
   "execution_count": 39,
   "metadata": {},
   "outputs": [],
   "source": [
    "gold_dominant_data = pd.read_csv('../datasets/test.csv')['Dominant Distortion']\\\n",
    "    .apply(lambda x: x.lower())\\\n",
    "    .apply(catch_responses)\n",
    "gold_secondary_data = pd.read_csv('../datasets/test.csv')['Secondary Distortion (Optional)']\\\n",
    "    .apply(lambda x: x if x is None else str(x).lower())\\\n",
    "    .apply(catch_responses)\n",
    "\n",
    "inference_df['gold_dominant'] = gold_dominant_data\n",
    "inference_df['gold_secondary'] = gold_secondary_data"
   ]
  },
  {
   "cell_type": "code",
   "execution_count": 40,
   "metadata": {},
   "outputs": [],
   "source": [
    "def match_either(row):\n",
    "    if row['Response'] == -1:\n",
    "        row['gold'] = row['gold_dominant']\n",
    "        return row\n",
    "    if row['Response'] == row['gold_secondary']:\n",
    "        row['gold'] = row['gold_secondary']\n",
    "    else:\n",
    "        row['gold'] = row['gold_dominant']\n",
    "    return row"
   ]
  },
  {
   "cell_type": "code",
   "execution_count": 41,
   "metadata": {},
   "outputs": [],
   "source": [
    "inference_df = inference_df.apply(match_either, axis=1)"
   ]
  },
  {
   "cell_type": "code",
   "execution_count": 42,
   "metadata": {},
   "outputs": [
    {
     "name": "stdout",
     "output_type": "stream",
     "text": [
      "Unique classes in 'gold': [ 2  0  3  6  4  1 10 -1  9  8]\n",
      "Unique classes in 'Response': [ 2 -1  4  6 10  1  3  9  0]\n"
     ]
    }
   ],
   "source": [
    "print(\"Unique classes in 'gold':\", inference_df['gold'].unique())\n",
    "print(\"Unique classes in 'Response':\", inference_df['Response'].unique())"
   ]
  },
  {
   "cell_type": "markdown",
   "metadata": {},
   "source": [
    "Compute Accuracy and F1"
   ]
  },
  {
   "cell_type": "code",
   "execution_count": 43,
   "metadata": {},
   "outputs": [
    {
     "name": "stdout",
     "output_type": "stream",
     "text": [
      "Evaluated Model: expert Prompt: llama3.2-3b\n",
      "F1 scores for each class:\n",
      "Class 0: 0.03571428571428571\n",
      "Class 1: 0.16129032258064516\n",
      "Class 2: 0.13138686131386862\n",
      "Class 3: 0.125\n",
      "Class 4: 0.09195402298850575\n",
      "Class 5: 0.0\n",
      "Class 6: 0.21666666666666667\n",
      "Class 7: 0.0\n",
      "Class 8: 0.0\n",
      "Class 9: 0.15384615384615385\n",
      "Class 10: 0.16393442622950818\n",
      "\n",
      "0.0981629763036031\n",
      "0.116600790513834\n"
     ]
    },
    {
     "name": "stderr",
     "output_type": "stream",
     "text": [
      "/Library/Frameworks/Python.framework/Versions/3.10/lib/python3.10/site-packages/sklearn/metrics/_classification.py:1509: UndefinedMetricWarning: F-score is ill-defined and being set to 0.0 in labels with no true nor predicted samples. Use `zero_division` parameter to control this behavior.\n",
      "  _warn_prf(average, modifier, f\"{metric.capitalize()} is\", len(result))\n",
      "/Library/Frameworks/Python.framework/Versions/3.10/lib/python3.10/site-packages/sklearn/metrics/_classification.py:1509: UndefinedMetricWarning: F-score is ill-defined and being set to 0.0 in labels with no true nor predicted samples. Use `zero_division` parameter to control this behavior.\n",
      "  _warn_prf(average, modifier, f\"{metric.capitalize()} is\", len(result))\n"
     ]
    }
   ],
   "source": [
    "from sklearn.metrics import accuracy_score, f1_score\n",
    "\n",
    "print(f\"Evaluated Model: {eval_path.split('/')[1]} Prompt: {eval_path.split('/')[2].removesuffix('.csv')}\")\n",
    "f1_macro = f1_score(inference_df['gold'], inference_df['Response'], average=None)\n",
    "f1_scores_per_class = f1_score(inference_df['gold'], inference_df['Response'], labels=range(0, 11), average=None)\n",
    "print(\"F1 scores for each class:\")\n",
    "for i, f1 in enumerate(f1_scores_per_class):\n",
    "    print(f\"Class {i}: {f1}\")\n",
    "print()\n",
    "print(f1_score(inference_df['gold'], inference_df['Response'], labels=range(0,11), average='macro'))\n",
    "print(accuracy_score(inference_df['gold'], inference_df['Response']))"
   ]
  },
  {
   "cell_type": "markdown",
   "metadata": {},
   "source": []
  },
  {
   "cell_type": "code",
   "execution_count": 44,
   "metadata": {},
   "outputs": [
    {
     "name": "stdout",
     "output_type": "stream",
     "text": [
      "Evaluated Model: expert Prompt: llama3.2-3b\n",
      "Accuracy: 0.09683794466403162\n",
      "F1-Score (Macro, Class 0): 0.14432989690721648\n",
      "F1-Score (Macro, Class 1): 0.03571428571428571\n",
      "F1-Score (Macro, Class 2): 0.13114754098360656\n",
      "F1-Score (Macro, Class 3): 0.1276595744680851\n",
      "F1-Score (Macro, Class 4): 0.125\n",
      "F1-Score (Macro, Class 5): 0.06201550387596899\n",
      "F1-Score (Macro, Class 6): 0.0\n",
      "F1-Score (Macro, Class 7): 0.15517241379310345\n",
      "F1-Score (Macro, Class 8): 0.0\n",
      "F1-Score (Macro, Class 9): 0.0\n",
      "F1-Score (Macro, Class 10): 0.1\n",
      "F1-Score (Macro, Class 11): 0.16129032258064516\n",
      "F1-Score (Macro): 0.10423295383229114\n",
      "F1-Score (Weighted): 0.09196047546689301\n"
     ]
    },
    {
     "name": "stderr",
     "output_type": "stream",
     "text": [
      "/Library/Frameworks/Python.framework/Versions/3.10/lib/python3.10/site-packages/sklearn/metrics/_classification.py:1509: UndefinedMetricWarning: F-score is ill-defined and being set to 0.0 in labels with no true nor predicted samples. Use `zero_division` parameter to control this behavior.\n",
      "  _warn_prf(average, modifier, f\"{metric.capitalize()} is\", len(result))\n"
     ]
    }
   ],
   "source": [
    "from sklearn.metrics import accuracy_score, f1_score\n",
    "\n",
    "print(f\"Evaluated Model: {eval_path.split('/')[1]} Prompt: {eval_path.split('/')[2].removesuffix('.csv')}\")\n",
    "print(f\"Accuracy: {accuracy_score(inference_df['gold_dominant'], inference_df['Response'])}\")\n",
    "f1_macro = f1_score(inference_df['gold_dominant'], inference_df['Response'], labels=[-1, 0, 1, 2, 3, 4, 5, 6, 7, 8, 9, 10], average=None)\n",
    "for i, f1 in enumerate(f1_macro):\n",
    "    print(f\"F1-Score (Macro, Class {i}): {f1}\")\n",
    "print(f\"F1-Score (Macro): {f1_score(inference_df['gold_dominant'], inference_df['Response'], average='macro')}\")\n",
    "print(f\"F1-Score (Weighted): {f1_score(inference_df['gold_dominant'], inference_df['Response'], average='weighted')}\")"
   ]
  }
 ],
 "metadata": {
  "kernelspec": {
   "display_name": "Python 3",
   "language": "python",
   "name": "python3"
  },
  "language_info": {
   "codemirror_mode": {
    "name": "ipython",
    "version": 3
   },
   "file_extension": ".py",
   "mimetype": "text/x-python",
   "name": "python",
   "nbconvert_exporter": "python",
   "pygments_lexer": "ipython3",
   "version": "3.10.7"
  }
 },
 "nbformat": 4,
 "nbformat_minor": 2
}
