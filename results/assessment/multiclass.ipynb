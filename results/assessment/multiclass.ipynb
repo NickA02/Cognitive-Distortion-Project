{
 "cells": [
  {
   "cell_type": "markdown",
   "metadata": {},
   "source": [
    "# Result Cleaning and Evaluation for Binary Cognitive Distortion Detection"
   ]
  },
  {
   "cell_type": "code",
   "execution_count": 36,
   "metadata": {},
   "outputs": [],
   "source": [
    "import os\n",
    "#Make this your results directory\n",
    "os.chdir('/Users/nicholasalmy/Desktop/Cognitive-Distortion-Project/results/')\n",
    "eval_path = 'multiclass/llama3.1-8b/one_shot.csv'"
   ]
  },
  {
   "cell_type": "markdown",
   "metadata": {},
   "source": [
    "Open the Dataset"
   ]
  },
  {
   "cell_type": "code",
   "execution_count": 37,
   "metadata": {},
   "outputs": [
    {
     "data": {
      "text/html": [
       "<div>\n",
       "<style scoped>\n",
       "    .dataframe tbody tr th:only-of-type {\n",
       "        vertical-align: middle;\n",
       "    }\n",
       "\n",
       "    .dataframe tbody tr th {\n",
       "        vertical-align: top;\n",
       "    }\n",
       "\n",
       "    .dataframe thead th {\n",
       "        text-align: right;\n",
       "    }\n",
       "</style>\n",
       "<table border=\"1\" class=\"dataframe\">\n",
       "  <thead>\n",
       "    <tr style=\"text-align: right;\">\n",
       "      <th></th>\n",
       "      <th>Prompt</th>\n",
       "      <th>Response</th>\n",
       "    </tr>\n",
       "  </thead>\n",
       "  <tbody>\n",
       "    <tr>\n",
       "      <th>0</th>\n",
       "      <td>My husband works a lot which really helps our ...</td>\n",
       "      <td>Personalization</td>\n",
       "    </tr>\n",
       "    <tr>\n",
       "      <th>1</th>\n",
       "      <td>I used to get many strange looks for the thing...</td>\n",
       "      <td>Overgeneralization.</td>\n",
       "    </tr>\n",
       "    <tr>\n",
       "      <th>2</th>\n",
       "      <td>Moved to another state left everything for my ...</td>\n",
       "      <td>Overgeneralization</td>\n",
       "    </tr>\n",
       "    <tr>\n",
       "      <th>3</th>\n",
       "      <td>It has been more than a year now , I feel alon...</td>\n",
       "      <td>Overgeneralization</td>\n",
       "    </tr>\n",
       "    <tr>\n",
       "      <th>4</th>\n",
       "      <td>My sister has autism spectrum disorder, she al...</td>\n",
       "      <td>Mind Reading</td>\n",
       "    </tr>\n",
       "    <tr>\n",
       "      <th>...</th>\n",
       "      <td>...</td>\n",
       "      <td>...</td>\n",
       "    </tr>\n",
       "    <tr>\n",
       "      <th>501</th>\n",
       "      <td>From India: My brother is 40 years old and he ...</td>\n",
       "      <td>Should Statements</td>\n",
       "    </tr>\n",
       "    <tr>\n",
       "      <th>502</th>\n",
       "      <td>From the U.S.: I was sexually abused and raped...</td>\n",
       "      <td>Overgeneralization</td>\n",
       "    </tr>\n",
       "    <tr>\n",
       "      <th>503</th>\n",
       "      <td>My grandsons personality has changed in every ...</td>\n",
       "      <td>Overgeneralization</td>\n",
       "    </tr>\n",
       "    <tr>\n",
       "      <th>504</th>\n",
       "      <td>From Egypt: I was diagnosed with OCD by my doc...</td>\n",
       "      <td>No Distortion.</td>\n",
       "    </tr>\n",
       "    <tr>\n",
       "      <th>505</th>\n",
       "      <td>I met a my best friend when I was 16 and we st...</td>\n",
       "      <td>Should Statements.</td>\n",
       "    </tr>\n",
       "  </tbody>\n",
       "</table>\n",
       "<p>506 rows × 2 columns</p>\n",
       "</div>"
      ],
      "text/plain": [
       "                                                Prompt             Response\n",
       "0    My husband works a lot which really helps our ...      Personalization\n",
       "1    I used to get many strange looks for the thing...  Overgeneralization.\n",
       "2    Moved to another state left everything for my ...   Overgeneralization\n",
       "3    It has been more than a year now , I feel alon...   Overgeneralization\n",
       "4    My sister has autism spectrum disorder, she al...         Mind Reading\n",
       "..                                                 ...                  ...\n",
       "501  From India: My brother is 40 years old and he ...    Should Statements\n",
       "502  From the U.S.: I was sexually abused and raped...   Overgeneralization\n",
       "503  My grandsons personality has changed in every ...   Overgeneralization\n",
       "504  From Egypt: I was diagnosed with OCD by my doc...       No Distortion.\n",
       "505  I met a my best friend when I was 16 and we st...   Should Statements.\n",
       "\n",
       "[506 rows x 2 columns]"
      ]
     },
     "execution_count": 37,
     "metadata": {},
     "output_type": "execute_result"
    }
   ],
   "source": [
    "import pandas as pd\n",
    "inference_df = pd.read_csv(eval_path)\n",
    "inference_df"
   ]
  },
  {
   "cell_type": "markdown",
   "metadata": {},
   "source": [
    "Fix Common Variations"
   ]
  },
  {
   "cell_type": "code",
   "execution_count": 38,
   "metadata": {},
   "outputs": [
    {
     "data": {
      "text/html": [
       "<div>\n",
       "<style scoped>\n",
       "    .dataframe tbody tr th:only-of-type {\n",
       "        vertical-align: middle;\n",
       "    }\n",
       "\n",
       "    .dataframe tbody tr th {\n",
       "        vertical-align: top;\n",
       "    }\n",
       "\n",
       "    .dataframe thead th {\n",
       "        text-align: right;\n",
       "    }\n",
       "</style>\n",
       "<table border=\"1\" class=\"dataframe\">\n",
       "  <thead>\n",
       "    <tr style=\"text-align: right;\">\n",
       "      <th></th>\n",
       "      <th>Prompt</th>\n",
       "      <th>Response</th>\n",
       "    </tr>\n",
       "  </thead>\n",
       "  <tbody>\n",
       "    <tr>\n",
       "      <th>0</th>\n",
       "      <td>My husband works a lot which really helps our ...</td>\n",
       "      <td>personalization</td>\n",
       "    </tr>\n",
       "    <tr>\n",
       "      <th>1</th>\n",
       "      <td>I used to get many strange looks for the thing...</td>\n",
       "      <td>overgeneralization</td>\n",
       "    </tr>\n",
       "    <tr>\n",
       "      <th>2</th>\n",
       "      <td>Moved to another state left everything for my ...</td>\n",
       "      <td>overgeneralization</td>\n",
       "    </tr>\n",
       "    <tr>\n",
       "      <th>3</th>\n",
       "      <td>It has been more than a year now , I feel alon...</td>\n",
       "      <td>overgeneralization</td>\n",
       "    </tr>\n",
       "    <tr>\n",
       "      <th>4</th>\n",
       "      <td>My sister has autism spectrum disorder, she al...</td>\n",
       "      <td>mind reading</td>\n",
       "    </tr>\n",
       "    <tr>\n",
       "      <th>...</th>\n",
       "      <td>...</td>\n",
       "      <td>...</td>\n",
       "    </tr>\n",
       "    <tr>\n",
       "      <th>501</th>\n",
       "      <td>From India: My brother is 40 years old and he ...</td>\n",
       "      <td>should statements</td>\n",
       "    </tr>\n",
       "    <tr>\n",
       "      <th>502</th>\n",
       "      <td>From the U.S.: I was sexually abused and raped...</td>\n",
       "      <td>overgeneralization</td>\n",
       "    </tr>\n",
       "    <tr>\n",
       "      <th>503</th>\n",
       "      <td>My grandsons personality has changed in every ...</td>\n",
       "      <td>overgeneralization</td>\n",
       "    </tr>\n",
       "    <tr>\n",
       "      <th>504</th>\n",
       "      <td>From Egypt: I was diagnosed with OCD by my doc...</td>\n",
       "      <td>no distortion</td>\n",
       "    </tr>\n",
       "    <tr>\n",
       "      <th>505</th>\n",
       "      <td>I met a my best friend when I was 16 and we st...</td>\n",
       "      <td>should statements</td>\n",
       "    </tr>\n",
       "  </tbody>\n",
       "</table>\n",
       "<p>506 rows × 2 columns</p>\n",
       "</div>"
      ],
      "text/plain": [
       "                                                Prompt            Response\n",
       "0    My husband works a lot which really helps our ...     personalization\n",
       "1    I used to get many strange looks for the thing...  overgeneralization\n",
       "2    Moved to another state left everything for my ...  overgeneralization\n",
       "3    It has been more than a year now , I feel alon...  overgeneralization\n",
       "4    My sister has autism spectrum disorder, she al...        mind reading\n",
       "..                                                 ...                 ...\n",
       "501  From India: My brother is 40 years old and he ...   should statements\n",
       "502  From the U.S.: I was sexually abused and raped...  overgeneralization\n",
       "503  My grandsons personality has changed in every ...  overgeneralization\n",
       "504  From Egypt: I was diagnosed with OCD by my doc...       no distortion\n",
       "505  I met a my best friend when I was 16 and we st...   should statements\n",
       "\n",
       "[506 rows x 2 columns]"
      ]
     },
     "execution_count": 38,
     "metadata": {},
     "output_type": "execute_result"
    }
   ],
   "source": [
    "\n",
    "inference_df['Response'] = inference_df['Response'].apply(lambda x: x.lower())\n",
    "inference_df['Response'] = inference_df['Response'].apply(lambda x: x.strip(\".'\"))\n",
    "inference_df"
   ]
  },
  {
   "cell_type": "markdown",
   "metadata": {},
   "source": [
    "Create Mapping Function"
   ]
  },
  {
   "cell_type": "code",
   "execution_count": 39,
   "metadata": {},
   "outputs": [],
   "source": [
    "def catch_responses(x):\n",
    "    match x:\n",
    "        case 'no distortion': \n",
    "            return 0\n",
    "        case 'emotional reasoning': \n",
    "            return 1\n",
    "        case 'overgeneralization': \n",
    "            return 2\n",
    "        case 'mental filter':\n",
    "            return 3\n",
    "        case 'should statements':\n",
    "            return 4\n",
    "        case 'all-or-nothing thinking':\n",
    "            return 5\n",
    "        case 'mind reading': \n",
    "            return 6\n",
    "        case 'fortune-telling':\n",
    "            return 7\n",
    "        case 'magnification': \n",
    "            return 8\n",
    "        case 'personalization': \n",
    "            return 9\n",
    "        case 'labeling': \n",
    "            return 10\n",
    "        case _:\n",
    "            print(x)\n",
    "            return -1\n"
   ]
  },
  {
   "cell_type": "markdown",
   "metadata": {},
   "source": [
    "Map common desired input, display any that are undesired for fine handling... For me, any denial should be thrown away (by being labelled -1)."
   ]
  },
  {
   "cell_type": "code",
   "execution_count": 40,
   "metadata": {},
   "outputs": [
    {
     "name": "stdout",
     "output_type": "stream",
     "text": [
      "all-or-nothing thinking, fortune-telling, and magnification\n",
      "labeling.\n",
      "\n",
      "note: labeling refers to attaching labels to oneself, such as \"i'm at the end of my ropes\", implying that they have no control over their situation and are helpless\n",
      "magical thinking\n",
      "blaming (externalization)\n",
      "mind reading and fortune-telling\n",
      "magnification, fortune-telling, all-or-nothing thinking, mental filter, mind reading, emotional reasoning, overgeneralization, personalization\n",
      "i cannot provide information that could be used to justify or facilitate harmful or illegal activities, including sexual abuse of minors. is there something else i can help you with?\n",
      "catastrophizing\n",
      "magical thinking\n",
      "labeling \n",
      "\n",
      "(\"rejected any emotionally connection because i saw emotions as negative\")\n"
     ]
    }
   ],
   "source": [
    "inference_df['Response'] = inference_df['Response'].apply(catch_responses)"
   ]
  },
  {
   "cell_type": "markdown",
   "metadata": {},
   "source": [
    "Gather Gold Data"
   ]
  },
  {
   "cell_type": "code",
   "execution_count": 41,
   "metadata": {},
   "outputs": [],
   "source": [
    "gold_data = pd.read_csv('../datasets/test.csv')['Dominant Distortion']\\\n",
    "    .apply(lambda x: x.lower())\\\n",
    "    .apply(catch_responses)\n",
    "inference_df['gold'] = gold_data"
   ]
  },
  {
   "cell_type": "markdown",
   "metadata": {},
   "source": [
    "Throw away non-responses"
   ]
  },
  {
   "cell_type": "code",
   "execution_count": 42,
   "metadata": {},
   "outputs": [],
   "source": [
    "inference_df = inference_df[inference_df['Response'] != -1]"
   ]
  },
  {
   "cell_type": "markdown",
   "metadata": {},
   "source": [
    "Compute Accuracy and F1"
   ]
  },
  {
   "cell_type": "code",
   "execution_count": 43,
   "metadata": {},
   "outputs": [
    {
     "name": "stdout",
     "output_type": "stream",
     "text": [
      "Evaluated Model: llama3.1-8b Prompt: one_shot\n",
      "Accuracy: 0.16532258064516128\n",
      "F1-Score (Macro, Class 0): 0.2233502538071066\n",
      "F1-Score (Macro, Class 1): 0.09523809523809525\n",
      "F1-Score (Macro, Class 2): 0.1981981981981982\n",
      "F1-Score (Macro, Class 3): 0.02985074626865672\n",
      "F1-Score (Macro, Class 4): 0.13559322033898305\n",
      "F1-Score (Macro, Class 5): 0.03125\n",
      "F1-Score (Macro, Class 6): 0.28571428571428575\n",
      "F1-Score (Macro, Class 7): 0.13559322033898305\n",
      "F1-Score (Macro, Class 8): 0.0\n",
      "F1-Score (Macro, Class 9): 0.205607476635514\n",
      "F1-Score (Macro, Class 10): 0.0851063829787234\n",
      "F1-Score (Macro): 0.12959107995623145\n",
      "F1-Score (Weighted): 0.16289251102410401\n"
     ]
    }
   ],
   "source": [
    "from sklearn.metrics import accuracy_score, f1_score\n",
    "\n",
    "print(f\"Evaluated Model: {eval_path.split('/')[1]} Prompt: {eval_path.split('/')[2].removesuffix('.csv')}\")\n",
    "print(f\"Accuracy: {accuracy_score(inference_df['gold'], inference_df['Response'])}\")\n",
    "f1_macro = f1_score(inference_df['gold'], inference_df['Response'], average=None)\n",
    "for i, f1 in enumerate(f1_macro):\n",
    "    print(f\"F1-Score (Macro, Class {i}): {f1}\")\n",
    "print(f\"F1-Score (Macro): {f1_score(inference_df['gold'], inference_df['Response'], average='macro')}\")\n",
    "print(f\"F1-Score (Weighted): {f1_score(inference_df['gold'], inference_df['Response'], average='weighted')}\")"
   ]
  }
 ],
 "metadata": {
  "kernelspec": {
   "display_name": "NLP",
   "language": "python",
   "name": "python3"
  },
  "language_info": {
   "codemirror_mode": {
    "name": "ipython",
    "version": 3
   },
   "file_extension": ".py",
   "mimetype": "text/x-python",
   "name": "python",
   "nbconvert_exporter": "python",
   "pygments_lexer": "ipython3",
   "version": "3.10.9"
  }
 },
 "nbformat": 4,
 "nbformat_minor": 2
}
