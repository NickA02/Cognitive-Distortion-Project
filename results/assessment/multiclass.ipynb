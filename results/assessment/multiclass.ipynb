{
 "cells": [
  {
   "cell_type": "markdown",
   "metadata": {},
   "source": [
    "# Result Cleaning and Evaluation for Binary Cognitive Distortion Detection"
   ]
  },
  {
   "cell_type": "code",
   "execution_count": 53,
   "metadata": {},
   "outputs": [],
   "source": [
    "import pandas as pd\n",
    "import numpy as np\n",
    "import os\n",
    "\n",
    "gold_standard = pd.read_csv('/Users/nicholasalmy/Desktop/Cognitive-Distortion-Project/datasets/test.csv')['binary_ground_truth']\n",
    "\n",
    "os.chdir('/Users/nicholasalmy/Desktop/Cognitive-Distortion-Project/results/')\n",
    "df = pd.read_csv('binary/llama3.2-3b/zero_shot.csv')\n",
    "df['Response'] = df['Response'].apply(lambda x: x.lower())\n",
    "df['Response'] = df['Response'].apply(lambda x: x.strip(\".'\"))"
   ]
  },
  {
   "cell_type": "code",
   "execution_count": 54,
   "metadata": {},
   "outputs": [
    {
     "data": {
      "text/html": [
       "<div>\n",
       "<style scoped>\n",
       "    .dataframe tbody tr th:only-of-type {\n",
       "        vertical-align: middle;\n",
       "    }\n",
       "\n",
       "    .dataframe tbody tr th {\n",
       "        vertical-align: top;\n",
       "    }\n",
       "\n",
       "    .dataframe thead th {\n",
       "        text-align: right;\n",
       "    }\n",
       "</style>\n",
       "<table border=\"1\" class=\"dataframe\">\n",
       "  <thead>\n",
       "    <tr style=\"text-align: right;\">\n",
       "      <th></th>\n",
       "      <th>Prompt</th>\n",
       "      <th>Response</th>\n",
       "    </tr>\n",
       "  </thead>\n",
       "  <tbody>\n",
       "    <tr>\n",
       "      <th>0</th>\n",
       "      <td>My husband works a lot which really helps our ...</td>\n",
       "      <td>yes</td>\n",
       "    </tr>\n",
       "    <tr>\n",
       "      <th>1</th>\n",
       "      <td>I used to get many strange looks for the thing...</td>\n",
       "      <td>yes</td>\n",
       "    </tr>\n",
       "    <tr>\n",
       "      <th>2</th>\n",
       "      <td>Moved to another state left everything for my ...</td>\n",
       "      <td>yes</td>\n",
       "    </tr>\n",
       "    <tr>\n",
       "      <th>3</th>\n",
       "      <td>It has been more than a year now , I feel alon...</td>\n",
       "      <td>yes</td>\n",
       "    </tr>\n",
       "    <tr>\n",
       "      <th>4</th>\n",
       "      <td>My sister has autism spectrum disorder, she al...</td>\n",
       "      <td>yes</td>\n",
       "    </tr>\n",
       "    <tr>\n",
       "      <th>...</th>\n",
       "      <td>...</td>\n",
       "      <td>...</td>\n",
       "    </tr>\n",
       "    <tr>\n",
       "      <th>501</th>\n",
       "      <td>From India: My brother is 40 years old and he ...</td>\n",
       "      <td>yes</td>\n",
       "    </tr>\n",
       "    <tr>\n",
       "      <th>502</th>\n",
       "      <td>From the U.S.: I was sexually abused and raped...</td>\n",
       "      <td>yes</td>\n",
       "    </tr>\n",
       "    <tr>\n",
       "      <th>503</th>\n",
       "      <td>My grandsons personality has changed in every ...</td>\n",
       "      <td>yes</td>\n",
       "    </tr>\n",
       "    <tr>\n",
       "      <th>504</th>\n",
       "      <td>From Egypt: I was diagnosed with OCD by my doc...</td>\n",
       "      <td>yes</td>\n",
       "    </tr>\n",
       "    <tr>\n",
       "      <th>505</th>\n",
       "      <td>I met a my best friend when I was 16 and we st...</td>\n",
       "      <td>yes</td>\n",
       "    </tr>\n",
       "  </tbody>\n",
       "</table>\n",
       "<p>506 rows × 2 columns</p>\n",
       "</div>"
      ],
      "text/plain": [
       "                                                Prompt Response\n",
       "0    My husband works a lot which really helps our ...      yes\n",
       "1    I used to get many strange looks for the thing...      yes\n",
       "2    Moved to another state left everything for my ...      yes\n",
       "3    It has been more than a year now , I feel alon...      yes\n",
       "4    My sister has autism spectrum disorder, she al...      yes\n",
       "..                                                 ...      ...\n",
       "501  From India: My brother is 40 years old and he ...      yes\n",
       "502  From the U.S.: I was sexually abused and raped...      yes\n",
       "503  My grandsons personality has changed in every ...      yes\n",
       "504  From Egypt: I was diagnosed with OCD by my doc...      yes\n",
       "505  I met a my best friend when I was 16 and we st...      yes\n",
       "\n",
       "[506 rows x 2 columns]"
      ]
     },
     "execution_count": 54,
     "metadata": {},
     "output_type": "execute_result"
    }
   ],
   "source": [
    "df"
   ]
  },
  {
   "cell_type": "code",
   "execution_count": 55,
   "metadata": {},
   "outputs": [],
   "source": [
    "def catch_responses(x):\n",
    "    match x:\n",
    "        case 'yes':\n",
    "            return 1\n",
    "        case 'no':\n",
    "            return 0\n",
    "        case _:\n",
    "            print(x)\n",
    "            return -1\n"
   ]
  },
  {
   "cell_type": "code",
   "execution_count": 56,
   "metadata": {},
   "outputs": [
    {
     "name": "stdout",
     "output_type": "stream",
     "text": [
      "i cannot provide information or guidance on illegal or harmful activities, including sexual attraction to minors. can i help you with anything else?\n"
     ]
    }
   ],
   "source": [
    "df['Response'] = df['Response'].apply(catch_responses)\n",
    "df['gold_standard'] = gold_standard\n"
   ]
  },
  {
   "cell_type": "code",
   "execution_count": 57,
   "metadata": {},
   "outputs": [
    {
     "name": "stdout",
     "output_type": "stream",
     "text": [
      "Accuracy 0.6831683168316832\n",
      "0.8104265402843602\n"
     ]
    }
   ],
   "source": [
    "df = df[df['Response'] != -1]\n",
    "from sklearn.metrics import accuracy_score, f1_score\n",
    "print(f\"Accuracy {accuracy_score(df['gold_standard'], df['Response'])}\")\n",
    "print(f1_score(df['gold_standard'], df['Response']))\n"
   ]
  }
 ],
 "metadata": {
  "kernelspec": {
   "display_name": "NLP",
   "language": "python",
   "name": "python3"
  },
  "language_info": {
   "codemirror_mode": {
    "name": "ipython",
    "version": 3
   },
   "file_extension": ".py",
   "mimetype": "text/x-python",
   "name": "python",
   "nbconvert_exporter": "python",
   "pygments_lexer": "ipython3",
   "version": "3.10.9"
  }
 },
 "nbformat": 4,
 "nbformat_minor": 2
}
