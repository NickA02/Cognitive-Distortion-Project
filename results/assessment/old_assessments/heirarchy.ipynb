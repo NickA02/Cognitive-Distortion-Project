{
 "cells": [
  {
   "cell_type": "markdown",
   "metadata": {},
   "source": []
  },
  {
   "cell_type": "markdown",
   "metadata": {},
   "source": [
    "# Result Cleaning and Evaluation for Binary Cognitive Distortion Detection"
   ]
  },
  {
   "cell_type": "code",
   "execution_count": 1,
   "metadata": {},
   "outputs": [],
   "source": [
    "import os\n",
    "#Make this your results directory\n",
    "os.chdir('/Users/nicholasalmy/Cognitive-Distortion-Project/results/')\n",
    "eval_path = 'heirarchy/baseline/gemma2-27b/zero-shot.csv'"
   ]
  },
  {
   "cell_type": "markdown",
   "metadata": {},
   "source": [
    "Open the Dataset"
   ]
  },
  {
   "cell_type": "code",
   "execution_count": 2,
   "metadata": {},
   "outputs": [
    {
     "data": {
      "text/html": [
       "<div>\n",
       "<style scoped>\n",
       "    .dataframe tbody tr th:only-of-type {\n",
       "        vertical-align: middle;\n",
       "    }\n",
       "\n",
       "    .dataframe tbody tr th {\n",
       "        vertical-align: top;\n",
       "    }\n",
       "\n",
       "    .dataframe thead th {\n",
       "        text-align: right;\n",
       "    }\n",
       "</style>\n",
       "<table border=\"1\" class=\"dataframe\">\n",
       "  <thead>\n",
       "    <tr style=\"text-align: right;\">\n",
       "      <th></th>\n",
       "      <th>Unnamed: 0</th>\n",
       "      <th>Prompt</th>\n",
       "      <th>Response</th>\n",
       "    </tr>\n",
       "  </thead>\n",
       "  <tbody>\n",
       "    <tr>\n",
       "      <th>0</th>\n",
       "      <td>0</td>\n",
       "      <td>My husband works a lot which really helps our ...</td>\n",
       "      <td>distortion present: y\\ncognitive distortion: p...</td>\n",
       "    </tr>\n",
       "    <tr>\n",
       "      <th>1</th>\n",
       "      <td>1</td>\n",
       "      <td>I used to get many strange looks for the thing...</td>\n",
       "      <td>distortion present: y   \\ncognitive distortion...</td>\n",
       "    </tr>\n",
       "    <tr>\n",
       "      <th>2</th>\n",
       "      <td>2</td>\n",
       "      <td>Moved to another state left everything for my ...</td>\n",
       "      <td>distortion present: y   \\ncognitive distortion...</td>\n",
       "    </tr>\n",
       "    <tr>\n",
       "      <th>3</th>\n",
       "      <td>3</td>\n",
       "      <td>It has been more than a year now , I feel alon...</td>\n",
       "      <td>distortion present: y   \\ncognitive distortion...</td>\n",
       "    </tr>\n",
       "    <tr>\n",
       "      <th>4</th>\n",
       "      <td>4</td>\n",
       "      <td>My sister has autism spectrum disorder, she al...</td>\n",
       "      <td>distortion present: y   \\ncognitive distortion...</td>\n",
       "    </tr>\n",
       "    <tr>\n",
       "      <th>...</th>\n",
       "      <td>...</td>\n",
       "      <td>...</td>\n",
       "      <td>...</td>\n",
       "    </tr>\n",
       "    <tr>\n",
       "      <th>501</th>\n",
       "      <td>501</td>\n",
       "      <td>From India: My brother is 40 years old and he ...</td>\n",
       "      <td>distortion present: y   \\ncognitive distortion...</td>\n",
       "    </tr>\n",
       "    <tr>\n",
       "      <th>502</th>\n",
       "      <td>502</td>\n",
       "      <td>From the U.S.: I was sexually abused and raped...</td>\n",
       "      <td>distortion present: n \\n\\n\\n</td>\n",
       "    </tr>\n",
       "    <tr>\n",
       "      <th>503</th>\n",
       "      <td>503</td>\n",
       "      <td>My grandsons personality has changed in every ...</td>\n",
       "      <td>distortion present: y   \\ncognitive distortion...</td>\n",
       "    </tr>\n",
       "    <tr>\n",
       "      <th>504</th>\n",
       "      <td>504</td>\n",
       "      <td>From Egypt: I was diagnosed with OCD by my doc...</td>\n",
       "      <td>distortion present: y   \\ncognitive distortion...</td>\n",
       "    </tr>\n",
       "    <tr>\n",
       "      <th>505</th>\n",
       "      <td>505</td>\n",
       "      <td>I met a my best friend when I was 16 and we st...</td>\n",
       "      <td>distortion present: y   \\ncognitive distortion...</td>\n",
       "    </tr>\n",
       "  </tbody>\n",
       "</table>\n",
       "<p>506 rows × 3 columns</p>\n",
       "</div>"
      ],
      "text/plain": [
       "     Unnamed: 0                                             Prompt  \\\n",
       "0             0  My husband works a lot which really helps our ...   \n",
       "1             1  I used to get many strange looks for the thing...   \n",
       "2             2  Moved to another state left everything for my ...   \n",
       "3             3  It has been more than a year now , I feel alon...   \n",
       "4             4  My sister has autism spectrum disorder, she al...   \n",
       "..          ...                                                ...   \n",
       "501         501  From India: My brother is 40 years old and he ...   \n",
       "502         502  From the U.S.: I was sexually abused and raped...   \n",
       "503         503  My grandsons personality has changed in every ...   \n",
       "504         504  From Egypt: I was diagnosed with OCD by my doc...   \n",
       "505         505  I met a my best friend when I was 16 and we st...   \n",
       "\n",
       "                                              Response  \n",
       "0    distortion present: y\\ncognitive distortion: p...  \n",
       "1    distortion present: y   \\ncognitive distortion...  \n",
       "2    distortion present: y   \\ncognitive distortion...  \n",
       "3    distortion present: y   \\ncognitive distortion...  \n",
       "4    distortion present: y   \\ncognitive distortion...  \n",
       "..                                                 ...  \n",
       "501  distortion present: y   \\ncognitive distortion...  \n",
       "502                       distortion present: n \\n\\n\\n  \n",
       "503  distortion present: y   \\ncognitive distortion...  \n",
       "504  distortion present: y   \\ncognitive distortion...  \n",
       "505  distortion present: y   \\ncognitive distortion...  \n",
       "\n",
       "[506 rows x 3 columns]"
      ]
     },
     "execution_count": 2,
     "metadata": {},
     "output_type": "execute_result"
    }
   ],
   "source": [
    "import pandas as pd\n",
    "inference_df = pd.read_csv(eval_path)\n",
    "inference_df['Response'] = inference_df['Response'].apply(lambda x: x.lower())\n",
    "inference_df"
   ]
  },
  {
   "cell_type": "markdown",
   "metadata": {},
   "source": [
    "Fix Common Variations"
   ]
  },
  {
   "cell_type": "code",
   "execution_count": 3,
   "metadata": {},
   "outputs": [],
   "source": [
    "distortion_present = []\n",
    "explanation = []\n",
    "cognitive_distortion = []\n",
    "count = 0\n",
    "def parse_result(result: str):\n",
    "    lines = result.split('\\n')\n",
    "    found_D = False\n",
    "    found_E = False\n",
    "    found_CD = False\n",
    "    count = 0\n",
    "    for line in lines:\n",
    "        if 'distortion present: ' in line and not found_D:\n",
    "\n",
    "            distortion = line.split(': ')[1].strip('\\r')\n",
    "            distortion_present.append(distortion)\n",
    "            if distortion == 'n':\n",
    "                cognitive_distortion.append('no distortion')\n",
    "                found_CD = True\n",
    "            found_D = True\n",
    "        elif 'explanation: ' in line and not found_E:\n",
    "            explanation.append(line.split(': ')[1])\n",
    "            found_E = True\n",
    "        elif 'cognitive distortion: ' in line and not found_CD:\n",
    "            cognitive_distortion.append(line.split(': ')[1].strip('\\r'))\n",
    "            found_CD = True\n",
    "        else:\n",
    "            continue\n",
    "    if not found_D:\n",
    "        #print(result)\n",
    "        distortion_present.append('none')\n",
    "    if not found_E:\n",
    "        #print(result)\n",
    "        explanation.append('none')\n",
    "    if not found_CD:\n",
    "        #print(result)\n",
    "        cognitive_distortion.append('none')\n",
    "    return\n"
   ]
  },
  {
   "cell_type": "code",
   "execution_count": 4,
   "metadata": {},
   "outputs": [
    {
     "data": {
      "text/plain": [
       "0"
      ]
     },
     "execution_count": 4,
     "metadata": {},
     "output_type": "execute_result"
    }
   ],
   "source": [
    "for result in inference_df['Response']:\n",
    "    parse_result(result)\n",
    "    if distortion_present[-1] == 'n':\n",
    "        count = count + 1\n",
    "count\n",
    "\n"
   ]
  },
  {
   "cell_type": "code",
   "execution_count": 5,
   "metadata": {},
   "outputs": [
    {
     "data": {
      "text/plain": [
       "(506, 506, 506, 6, 506, 25)"
      ]
     },
     "execution_count": 5,
     "metadata": {},
     "output_type": "execute_result"
    }
   ],
   "source": [
    "distortion_present.count('none'), explanation.count('none'), cognitive_distortion.count('none')\n",
    "len(distortion_present), len(explanation), len(cognitive_distortion), distortion_present.count('none'), explanation.count('none'), cognitive_distortion.count('none')\n"
   ]
  },
  {
   "cell_type": "code",
   "execution_count": 6,
   "metadata": {},
   "outputs": [],
   "source": [
    "inference_df['Distortion Present'] = distortion_present\n",
    "inference_df['Explanation'] = explanation\n",
    "inference_df['Cognitive Distortion'] = cognitive_distortion"
   ]
  },
  {
   "cell_type": "code",
   "execution_count": 7,
   "metadata": {},
   "outputs": [],
   "source": [
    "#Map Distortion Present to -1, 0 or 1\n",
    "\n",
    "def map_distortion_present(distortion_present: str):\n",
    "    if distortion_present == 'none':\n",
    "        return -1\n",
    "    elif distortion_present == 'y':\n",
    "        return 1\n",
    "    else:\n",
    "        return 0\n",
    "\n",
    "inference_df['Distortion Present'] = inference_df['Distortion Present'].map(map_distortion_present)\n",
    "\n"
   ]
  },
  {
   "cell_type": "code",
   "execution_count": 20,
   "metadata": {},
   "outputs": [
    {
     "data": {
      "text/plain": [
       "Cognitive Distortion\n",
       "-1    506\n",
       "Name: count, dtype: int64"
      ]
     },
     "execution_count": 20,
     "metadata": {},
     "output_type": "execute_result"
    }
   ],
   "source": [
    "#count inference_df['Distortion Present'] -1, 0, 1\n",
    "inference_df['Cognitive Distortion'].value_counts()"
   ]
  },
  {
   "cell_type": "markdown",
   "metadata": {},
   "source": [
    "Create Mapping Function"
   ]
  },
  {
   "cell_type": "code",
   "execution_count": 9,
   "metadata": {},
   "outputs": [],
   "source": [
    "def catch_responses(x):\n",
    "    match x:\n",
    "        case 'no distortion': \n",
    "            return 0\n",
    "        case 'emotional reasoning': \n",
    "            return 1\n",
    "        case 'overgeneralization': \n",
    "            return 2\n",
    "        case 'mental filter':\n",
    "            return 3\n",
    "        case 'should statements':\n",
    "            return 4\n",
    "        case 'all-or-nothing thinking':\n",
    "            return 5\n",
    "        case 'mind reading': \n",
    "            return 6\n",
    "        case 'fortune-telling':\n",
    "            return 7\n",
    "        case 'fortune telling':\n",
    "            return 7\n",
    "        case 'magnification': \n",
    "            return 8\n",
    "        case 'personalization': \n",
    "            return 9\n",
    "        case 'labeling': \n",
    "            return 10\n",
    "        case _:\n",
    "            return -1\n"
   ]
  },
  {
   "cell_type": "markdown",
   "metadata": {},
   "source": [
    "Map common desired input, display any that are undesired for fine handling... For me, any denial should be thrown away (by being labelled -1)."
   ]
  },
  {
   "cell_type": "code",
   "execution_count": 10,
   "metadata": {},
   "outputs": [],
   "source": [
    "inference_df['Cognitive Distortion'] = inference_df['Cognitive Distortion'].apply(catch_responses)"
   ]
  },
  {
   "cell_type": "markdown",
   "metadata": {},
   "source": [
    "Gather Gold Data"
   ]
  },
  {
   "cell_type": "code",
   "execution_count": 11,
   "metadata": {},
   "outputs": [],
   "source": [
    "gold_dominant_data = pd.read_csv('../datasets/test.csv')['Dominant Distortion']\\\n",
    "    .apply(lambda x: x.lower())\\\n",
    "    .apply(catch_responses)\n",
    "gold_secondary_data = pd.read_csv('../datasets/test.csv')['Secondary Distortion (Optional)']\\\n",
    "    .apply(lambda x: x if x is None else str(x).lower())\\\n",
    "    .apply(catch_responses)\n",
    "gold_binary_data = pd.read_csv('../datasets/test.csv')['binary_ground_truth']\n",
    "\n",
    "inference_df['gold_dominant'] = gold_dominant_data\n",
    "inference_df['gold_secondary'] = gold_secondary_data\n",
    "inference_df['gold_binary'] = gold_binary_data"
   ]
  },
  {
   "cell_type": "code",
   "execution_count": 12,
   "metadata": {},
   "outputs": [],
   "source": [
    "def match_either(row):\n",
    "    if row['Cognitive Distortion'] == -1:\n",
    "        row['gold'] = row['gold_dominant']\n",
    "        return row\n",
    "    if row['Cognitive Distortion'] == row['gold_secondary']:\n",
    "        row['gold'] = row['gold_secondary']\n",
    "    else:\n",
    "        row['gold'] = row['gold_dominant']\n",
    "    return row"
   ]
  },
  {
   "cell_type": "code",
   "execution_count": 13,
   "metadata": {},
   "outputs": [],
   "source": [
    "inference_df = inference_df.apply(match_either, axis=1)"
   ]
  },
  {
   "cell_type": "markdown",
   "metadata": {},
   "source": [
    "Throw away non-responses"
   ]
  },
  {
   "cell_type": "markdown",
   "metadata": {},
   "source": []
  },
  {
   "cell_type": "markdown",
   "metadata": {},
   "source": [
    "inference_df"
   ]
  },
  {
   "cell_type": "code",
   "execution_count": 14,
   "metadata": {},
   "outputs": [
    {
     "data": {
      "text/html": [
       "<div>\n",
       "<style scoped>\n",
       "    .dataframe tbody tr th:only-of-type {\n",
       "        vertical-align: middle;\n",
       "    }\n",
       "\n",
       "    .dataframe tbody tr th {\n",
       "        vertical-align: top;\n",
       "    }\n",
       "\n",
       "    .dataframe thead th {\n",
       "        text-align: right;\n",
       "    }\n",
       "</style>\n",
       "<table border=\"1\" class=\"dataframe\">\n",
       "  <thead>\n",
       "    <tr style=\"text-align: right;\">\n",
       "      <th></th>\n",
       "      <th>Unnamed: 0</th>\n",
       "      <th>Prompt</th>\n",
       "      <th>Response</th>\n",
       "      <th>Distortion Present</th>\n",
       "      <th>Explanation</th>\n",
       "      <th>Cognitive Distortion</th>\n",
       "      <th>gold_dominant</th>\n",
       "      <th>gold_secondary</th>\n",
       "      <th>gold_binary</th>\n",
       "      <th>gold</th>\n",
       "    </tr>\n",
       "  </thead>\n",
       "  <tbody>\n",
       "    <tr>\n",
       "      <th>0</th>\n",
       "      <td>0</td>\n",
       "      <td>My husband works a lot which really helps our ...</td>\n",
       "      <td>distortion present: y\\ncognitive distortion: p...</td>\n",
       "      <td>1</td>\n",
       "      <td>none</td>\n",
       "      <td>-1</td>\n",
       "      <td>2</td>\n",
       "      <td>6</td>\n",
       "      <td>1</td>\n",
       "      <td>2</td>\n",
       "    </tr>\n",
       "    <tr>\n",
       "      <th>1</th>\n",
       "      <td>1</td>\n",
       "      <td>I used to get many strange looks for the thing...</td>\n",
       "      <td>distortion present: y   \\ncognitive distortion...</td>\n",
       "      <td>0</td>\n",
       "      <td>none</td>\n",
       "      <td>-1</td>\n",
       "      <td>0</td>\n",
       "      <td>-1</td>\n",
       "      <td>0</td>\n",
       "      <td>0</td>\n",
       "    </tr>\n",
       "    <tr>\n",
       "      <th>2</th>\n",
       "      <td>2</td>\n",
       "      <td>Moved to another state left everything for my ...</td>\n",
       "      <td>distortion present: y   \\ncognitive distortion...</td>\n",
       "      <td>0</td>\n",
       "      <td>none</td>\n",
       "      <td>-1</td>\n",
       "      <td>3</td>\n",
       "      <td>-1</td>\n",
       "      <td>1</td>\n",
       "      <td>3</td>\n",
       "    </tr>\n",
       "    <tr>\n",
       "      <th>3</th>\n",
       "      <td>3</td>\n",
       "      <td>It has been more than a year now , I feel alon...</td>\n",
       "      <td>distortion present: y   \\ncognitive distortion...</td>\n",
       "      <td>0</td>\n",
       "      <td>none</td>\n",
       "      <td>-1</td>\n",
       "      <td>3</td>\n",
       "      <td>-1</td>\n",
       "      <td>1</td>\n",
       "      <td>3</td>\n",
       "    </tr>\n",
       "    <tr>\n",
       "      <th>4</th>\n",
       "      <td>4</td>\n",
       "      <td>My sister has autism spectrum disorder, she al...</td>\n",
       "      <td>distortion present: y   \\ncognitive distortion...</td>\n",
       "      <td>0</td>\n",
       "      <td>none</td>\n",
       "      <td>-1</td>\n",
       "      <td>6</td>\n",
       "      <td>-1</td>\n",
       "      <td>1</td>\n",
       "      <td>6</td>\n",
       "    </tr>\n",
       "    <tr>\n",
       "      <th>...</th>\n",
       "      <td>...</td>\n",
       "      <td>...</td>\n",
       "      <td>...</td>\n",
       "      <td>...</td>\n",
       "      <td>...</td>\n",
       "      <td>...</td>\n",
       "      <td>...</td>\n",
       "      <td>...</td>\n",
       "      <td>...</td>\n",
       "      <td>...</td>\n",
       "    </tr>\n",
       "    <tr>\n",
       "      <th>501</th>\n",
       "      <td>501</td>\n",
       "      <td>From India: My brother is 40 years old and he ...</td>\n",
       "      <td>distortion present: y   \\ncognitive distortion...</td>\n",
       "      <td>0</td>\n",
       "      <td>none</td>\n",
       "      <td>-1</td>\n",
       "      <td>2</td>\n",
       "      <td>-1</td>\n",
       "      <td>1</td>\n",
       "      <td>2</td>\n",
       "    </tr>\n",
       "    <tr>\n",
       "      <th>502</th>\n",
       "      <td>502</td>\n",
       "      <td>From the U.S.: I was sexually abused and raped...</td>\n",
       "      <td>distortion present: n \\n\\n\\n</td>\n",
       "      <td>0</td>\n",
       "      <td>none</td>\n",
       "      <td>-1</td>\n",
       "      <td>0</td>\n",
       "      <td>-1</td>\n",
       "      <td>0</td>\n",
       "      <td>0</td>\n",
       "    </tr>\n",
       "    <tr>\n",
       "      <th>503</th>\n",
       "      <td>503</td>\n",
       "      <td>My grandsons personality has changed in every ...</td>\n",
       "      <td>distortion present: y   \\ncognitive distortion...</td>\n",
       "      <td>0</td>\n",
       "      <td>none</td>\n",
       "      <td>-1</td>\n",
       "      <td>10</td>\n",
       "      <td>-1</td>\n",
       "      <td>1</td>\n",
       "      <td>10</td>\n",
       "    </tr>\n",
       "    <tr>\n",
       "      <th>504</th>\n",
       "      <td>504</td>\n",
       "      <td>From Egypt: I was diagnosed with OCD by my doc...</td>\n",
       "      <td>distortion present: y   \\ncognitive distortion...</td>\n",
       "      <td>0</td>\n",
       "      <td>none</td>\n",
       "      <td>-1</td>\n",
       "      <td>0</td>\n",
       "      <td>-1</td>\n",
       "      <td>0</td>\n",
       "      <td>0</td>\n",
       "    </tr>\n",
       "    <tr>\n",
       "      <th>505</th>\n",
       "      <td>505</td>\n",
       "      <td>I met a my best friend when I was 16 and we st...</td>\n",
       "      <td>distortion present: y   \\ncognitive distortion...</td>\n",
       "      <td>0</td>\n",
       "      <td>none</td>\n",
       "      <td>-1</td>\n",
       "      <td>10</td>\n",
       "      <td>7</td>\n",
       "      <td>1</td>\n",
       "      <td>10</td>\n",
       "    </tr>\n",
       "  </tbody>\n",
       "</table>\n",
       "<p>506 rows × 10 columns</p>\n",
       "</div>"
      ],
      "text/plain": [
       "     Unnamed: 0                                             Prompt  \\\n",
       "0             0  My husband works a lot which really helps our ...   \n",
       "1             1  I used to get many strange looks for the thing...   \n",
       "2             2  Moved to another state left everything for my ...   \n",
       "3             3  It has been more than a year now , I feel alon...   \n",
       "4             4  My sister has autism spectrum disorder, she al...   \n",
       "..          ...                                                ...   \n",
       "501         501  From India: My brother is 40 years old and he ...   \n",
       "502         502  From the U.S.: I was sexually abused and raped...   \n",
       "503         503  My grandsons personality has changed in every ...   \n",
       "504         504  From Egypt: I was diagnosed with OCD by my doc...   \n",
       "505         505  I met a my best friend when I was 16 and we st...   \n",
       "\n",
       "                                              Response  Distortion Present  \\\n",
       "0    distortion present: y\\ncognitive distortion: p...                   1   \n",
       "1    distortion present: y   \\ncognitive distortion...                   0   \n",
       "2    distortion present: y   \\ncognitive distortion...                   0   \n",
       "3    distortion present: y   \\ncognitive distortion...                   0   \n",
       "4    distortion present: y   \\ncognitive distortion...                   0   \n",
       "..                                                 ...                 ...   \n",
       "501  distortion present: y   \\ncognitive distortion...                   0   \n",
       "502                       distortion present: n \\n\\n\\n                   0   \n",
       "503  distortion present: y   \\ncognitive distortion...                   0   \n",
       "504  distortion present: y   \\ncognitive distortion...                   0   \n",
       "505  distortion present: y   \\ncognitive distortion...                   0   \n",
       "\n",
       "    Explanation  Cognitive Distortion  gold_dominant  gold_secondary  \\\n",
       "0          none                    -1              2               6   \n",
       "1          none                    -1              0              -1   \n",
       "2          none                    -1              3              -1   \n",
       "3          none                    -1              3              -1   \n",
       "4          none                    -1              6              -1   \n",
       "..          ...                   ...            ...             ...   \n",
       "501        none                    -1              2              -1   \n",
       "502        none                    -1              0              -1   \n",
       "503        none                    -1             10              -1   \n",
       "504        none                    -1              0              -1   \n",
       "505        none                    -1             10               7   \n",
       "\n",
       "     gold_binary  gold  \n",
       "0              1     2  \n",
       "1              0     0  \n",
       "2              1     3  \n",
       "3              1     3  \n",
       "4              1     6  \n",
       "..           ...   ...  \n",
       "501            1     2  \n",
       "502            0     0  \n",
       "503            1    10  \n",
       "504            0     0  \n",
       "505            1    10  \n",
       "\n",
       "[506 rows x 10 columns]"
      ]
     },
     "execution_count": 14,
     "metadata": {},
     "output_type": "execute_result"
    }
   ],
   "source": [
    "inference_df"
   ]
  },
  {
   "cell_type": "code",
   "execution_count": 15,
   "metadata": {},
   "outputs": [],
   "source": [
    "#inference_df = inference_df[inference_df['gold_dominant'] != 0]"
   ]
  },
  {
   "cell_type": "markdown",
   "metadata": {},
   "source": [
    "Compute Accuracy and F1"
   ]
  },
  {
   "cell_type": "code",
   "execution_count": null,
   "metadata": {},
   "outputs": [],
   "source": []
  },
  {
   "cell_type": "code",
   "execution_count": 16,
   "metadata": {},
   "outputs": [
    {
     "name": "stdout",
     "output_type": "stream",
     "text": [
      "Evaluated Model: baseline Prompt: gemma2-27b\n",
      "0.0\n",
      "0.0\n",
      "0.0\n",
      "0.0\n",
      "0.0\n",
      "0.0\n",
      "0.0\n",
      "0.0\n",
      "0.0\n",
      "0.0\n",
      "0.0\n",
      "0.0\n",
      "\n",
      "0.0\n",
      "0.0\n"
     ]
    }
   ],
   "source": [
    "from sklearn.metrics import accuracy_score, f1_score\n",
    "\n",
    "print(f\"Evaluated Model: {eval_path.split('/')[1]} Prompt: {eval_path.split('/')[2].removesuffix('.csv')}\")\n",
    "f1_macro = f1_score(inference_df['gold'], inference_df['Cognitive Distortion'], average=None)\n",
    "for i, f1 in enumerate(f1_macro):\n",
    "    print(f1)\n",
    "print()\n",
    "print(f1_score(inference_df['gold'], inference_df['Cognitive Distortion'], labels=range(0,11), average='macro'))\n",
    "print(accuracy_score(inference_df['gold'], inference_df['Cognitive Distortion']))\n",
    "#print(f\"F1-Score (Weighted): {f1_score(inference_df['gold'], inference_df['Response'], average='weighted')}\")"
   ]
  },
  {
   "cell_type": "code",
   "execution_count": 17,
   "metadata": {},
   "outputs": [
    {
     "name": "stdout",
     "output_type": "stream",
     "text": [
      "Evaluated Model: baseline Prompt: gemma2-27b\n",
      "Accuracy: 0.0\n",
      "F1-Score (Macro, Class 0): 0.0\n",
      "F1-Score (Macro, Class 1): 0.0\n",
      "F1-Score (Macro, Class 2): 0.0\n",
      "F1-Score (Macro, Class 3): 0.0\n",
      "F1-Score (Macro, Class 4): 0.0\n",
      "F1-Score (Macro, Class 5): 0.0\n",
      "F1-Score (Macro, Class 6): 0.0\n",
      "F1-Score (Macro, Class 7): 0.0\n",
      "F1-Score (Macro, Class 8): 0.0\n",
      "F1-Score (Macro, Class 9): 0.0\n",
      "F1-Score (Macro, Class 10): 0.0\n",
      "F1-Score (Macro, Class 11): 0.0\n",
      "F1-Score (Macro): 0.0\n",
      "F1-Score (Weighted): 0.0\n"
     ]
    }
   ],
   "source": [
    "from sklearn.metrics import accuracy_score, f1_score\n",
    "\n",
    "print(f\"Evaluated Model: {eval_path.split('/')[1]} Prompt: {eval_path.split('/')[2].removesuffix('.csv')}\")\n",
    "print(f\"Accuracy: {accuracy_score(inference_df['gold_dominant'], inference_df['Cognitive Distortion'])}\")\n",
    "f1_macro = f1_score(inference_df['gold_dominant'], inference_df['Cognitive Distortion'], labels=[-1, 0, 1, 2, 3, 4, 5, 6, 7, 8, 9, 10], average=None)\n",
    "for i, f1 in enumerate(f1_macro):\n",
    "    print(f\"F1-Score (Macro, Class {i}): {f1}\")\n",
    "print(f\"F1-Score (Macro): {f1_score(inference_df['gold_dominant'], inference_df['Cognitive Distortion'], average='macro')}\")\n",
    "print(f\"F1-Score (Weighted): {f1_score(inference_df['gold_dominant'], inference_df['Cognitive Distortion'], average='weighted')}\")"
   ]
  },
  {
   "cell_type": "markdown",
   "metadata": {},
   "source": []
  },
  {
   "cell_type": "code",
   "execution_count": 18,
   "metadata": {},
   "outputs": [
    {
     "name": "stdout",
     "output_type": "stream",
     "text": [
      "Evaluated Model: baseline Prompt: gemma2-27b\n",
      "Accuracy: 0.34189723320158105\n",
      "[0.         0.49693252 0.06214689]\n",
      "0.2795397039963953\n"
     ]
    }
   ],
   "source": [
    "from sklearn.metrics import accuracy_score, f1_score\n",
    "\n",
    "print(f\"Evaluated Model: {eval_path.split('/')[1]} Prompt: {eval_path.split('/')[2].removesuffix('.csv')}\")\n",
    "print(f\"Accuracy: {accuracy_score(inference_df['gold_binary'], inference_df['Distortion Present'])}\")\n",
    "print(f1_score(inference_df['gold_binary'], inference_df['Distortion Present'], average=None))\n",
    "print(f1_score(inference_df['gold_binary'], inference_df['Distortion Present'], labels=[0,1], average='macro'))"
   ]
  },
  {
   "cell_type": "code",
   "execution_count": 19,
   "metadata": {},
   "outputs": [
    {
     "data": {
      "text/plain": [
       "0      1\n",
       "1      0\n",
       "2      0\n",
       "3      0\n",
       "4      0\n",
       "      ..\n",
       "501    0\n",
       "502    0\n",
       "503    0\n",
       "504    0\n",
       "505    0\n",
       "Name: Distortion Present, Length: 506, dtype: int64"
      ]
     },
     "execution_count": 19,
     "metadata": {},
     "output_type": "execute_result"
    }
   ],
   "source": [
    "inference_df['Distortion Present']"
   ]
  },
  {
   "cell_type": "code",
   "execution_count": null,
   "metadata": {},
   "outputs": [],
   "source": []
  }
 ],
 "metadata": {
  "kernelspec": {
   "display_name": "base",
   "language": "python",
   "name": "python3"
  },
  "language_info": {
   "codemirror_mode": {
    "name": "ipython",
    "version": 3
   },
   "file_extension": ".py",
   "mimetype": "text/x-python",
   "name": "python",
   "nbconvert_exporter": "python",
   "pygments_lexer": "ipython3",
   "version": "3.12.7"
  }
 },
 "nbformat": 4,
 "nbformat_minor": 2
}
