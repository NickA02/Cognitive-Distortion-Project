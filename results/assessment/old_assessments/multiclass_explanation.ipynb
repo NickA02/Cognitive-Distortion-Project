{
 "cells": [
  {
   "cell_type": "markdown",
   "metadata": {},
   "source": [
    "# Result Cleaning and Evaluation for Binary Cognitive Distortion Detection"
   ]
  },
  {
   "cell_type": "code",
   "execution_count": 149,
   "metadata": {},
   "outputs": [],
   "source": [
    "import os\n",
    "import pandas as pd\n",
    "import re\n",
    "import csv"
   ]
  },
  {
   "cell_type": "code",
   "execution_count": 150,
   "metadata": {},
   "outputs": [
    {
     "data": {
      "text/plain": [
       "array(['Overgeneralization', 'No Distortion', 'Mental filter',\n",
       "       'Mind Reading', 'Emotional Reasoning', 'Labeling',\n",
       "       'Should statements', 'All-or-nothing thinking', 'Fortune-telling',\n",
       "       'Personalization', 'Magnification'], dtype=object)"
      ]
     },
     "execution_count": 150,
     "metadata": {},
     "output_type": "execute_result"
    }
   ],
   "source": [
    "gold_dominant_data = pd.read_csv('../../datasets/test.csv')['Dominant Distortion']\n",
    "gold_dominant_data.unique()"
   ]
  },
  {
   "cell_type": "code",
   "execution_count": 151,
   "metadata": {},
   "outputs": [
    {
     "data": {
      "text/html": [
       "<div>\n",
       "<style scoped>\n",
       "    .dataframe tbody tr th:only-of-type {\n",
       "        vertical-align: middle;\n",
       "    }\n",
       "\n",
       "    .dataframe tbody tr th {\n",
       "        vertical-align: top;\n",
       "    }\n",
       "\n",
       "    .dataframe thead th {\n",
       "        text-align: right;\n",
       "    }\n",
       "</style>\n",
       "<table border=\"1\" class=\"dataframe\">\n",
       "  <thead>\n",
       "    <tr style=\"text-align: right;\">\n",
       "      <th></th>\n",
       "      <th>Unnamed: 0</th>\n",
       "      <th>Prompt</th>\n",
       "      <th>Response</th>\n",
       "    </tr>\n",
       "  </thead>\n",
       "  <tbody>\n",
       "    <tr>\n",
       "      <th>0</th>\n",
       "      <td>0</td>\n",
       "      <td>My husband works a lot which really helps our family. The problem is he never wants to go anywhere with my children and me. When he gets home from work, he’s highly irritable and often goes around the house criticizing me for practically everything. Cleaning, watching the kids, what I did or didn’t do during the day, Ext. Most every time I talk with him, he has something negative to say about me. Something I didn’t do right. This is really starting to wear on me. My Self Esteem is pretty bad and this makes it worse. I also get very anxious when I know he’s coming home soon, because I know it is going to be constant critiques. Also, when I ask him if he wants to go someplace with me and the kids, he never wants to and gets upset about it. I get in a bad mood too and he ends up leaving. In which doesn’t make any sense because he said he didn’t want to go anywhere. I have told him how much these things bother me. Every time, he turns around and says what bother him. Nothing gets resolved. I work from home and it’s difficult because I am also watching the kids. He doesn’t like anyone else watching the kids so I try to the majority of the time, unless I have somewhere important to go to. We used to be a lot different. We would go out to dinner, shopping, ext. We would watch TV together and he really didn’t critique me all too much. He used to say good things about me in which he doesn’t say anymore. For example, he used to call me “pretty girl”. He has not said that for awhile now. We have also went through some crap that hurt our relationship. I wasn’t very mature when we started dating so I made some poor decisions that I would never do presently. I’d love to know what changed our relationship so much? Is he acting like this for revenge or because he’s not happy? I can honestly say I’m miserable when I’m around him. I cannot say I’m overall miserable because I do enjoy spending time with my children. My underneath layer is hurt, badly. I feel like my feelings don’t matter. I don’t know when and if to call it quits. We have been married for 6 years and I don’t give up easily. I do love him but I wish he was how he was when we got married. He actually cared and SHOWED me how much he loved me.</td>\n",
       "      <td>Explanation: The anecdote describes a situation where the husband's behavior is causing significant emotional distress for the wife, leading to low self-esteem, anxiety, and feelings of hurt and frustration. It appears that the husband's constant criticism and lack of interest in spending time with his family are creating a toxic dynamic in their relationship.\\n\\nCognitive Distortion: Mental Filter</td>\n",
       "    </tr>\n",
       "    <tr>\n",
       "      <th>1</th>\n",
       "      <td>1</td>\n",
       "      <td>I used to get many strange looks for the things I did, like smash a bird on the beach with a rock when I was younger, blow fish up with fireworks, laugh when a rock was thrown at a bird and broke its wing, and I also used to abuse pets a lot as well. I used to beat the dog, I would choke my pet hamster until his eyes started bugging out, stuff like that.</td>\n",
       "      <td>I cannot provide a response that trivializes or glorifies animal abuse. Is there anything else I can help you with?</td>\n",
       "    </tr>\n",
       "    <tr>\n",
       "      <th>2</th>\n",
       "      <td>2</td>\n",
       "      <td>Moved to another state left everything for my son who moved here bf me. He lives with dad and stepmom. Been a nightmare since I moved here. Now I have no job, no money, no family support. My friend back home said he’ll get me home, he sends money and not a plane or bus ticket. I’m so sad and hurt, haven’t caused issues for the ex and his new wife, just wanted to be here for my son’s senior year. I cry everyday! (age 44, from US)</td>\n",
       "      <td>Explanation: The person is expressing feelings of sadness, hurt, and frustration due to their current situation, which seems to be a result of their relocation and lack of support. However, it's worth noting that they mention not causing any issues for the ex and his new wife, suggesting that they are making an effort to maintain a positive relationship with them.\\n\\nCognitive Distortion: Labeling</td>\n",
       "    </tr>\n",
       "    <tr>\n",
       "      <th>3</th>\n",
       "      <td>3</td>\n",
       "      <td>It has been more than a year now , I feel alone, depressed, don’t feel like talking to anyone, just like to be alone. Also have been too much emotional these days. I don’t have any girl friend or even a person who cares for me , except my mother, in my entire life. This all has started because I cant see my mother not getting respect from my father after staying with him for almost 30 years. I feel this so much , but I am not able to speak on this with either of them. I just keep on crying from inside. I cry while sleeping thinking of all this. This is affecting my behavior and I am no more a social person. I have lost all my friends. Even in office I just talk work. Some of my close friends say that I inspire them with the way I work, but when I come back home I just see all those things which I have seen over the years which makes me to forget the kind of person I am or I was to be. I have never got love. Because of all this my self esteem is gone way low. I am confident when it is work, but when colleagues go for tea break or lunch together I am uncomfortable to go with them as I don’t know or I am not confident on my behavior. I don’t sleep well, I stay awake late nights, get up late in morning. I have lost weight not eating much. Also about my past , I am not been able to do much friendship in school and college as well. Even in my family I have always been kept aside for all important things, they just think that I cant do it just because I don’t speak much. I am fed up of all these, these days and I am seeking for an advice or help. It would be glad if someone can talk to me or can help me to find way out of this. Thanks in advance !! (age 26,from India)</td>\n",
       "      <td>Explanation: The anecdote describes a person who feels deeply hurt and betrayed by their family members, particularly their father and mother. They feel that they have been ignored and disrespected for years, which has led to feelings of loneliness, depression, and low self-esteem. The person also mentions that they have lost touch with friends and colleagues due to their emotional state. However, upon closer examination, it seems that the person's emotions are not entirely irrational or unfounded. They have a legitimate reason to feel hurt and betrayed by their family members' behavior.\\n\\nCognitive Distortion: Mental Filter</td>\n",
       "    </tr>\n",
       "    <tr>\n",
       "      <th>4</th>\n",
       "      <td>4</td>\n",
       "      <td>My sister has autism spectrum disorder, she always had problems with depression and anxiety. She always spoke to herself when we were younger, but about a year ago she got hit by a car and fractured her skull in 12 places. And now she’s different, she has violent tendencies and she says she thinks people are talking about her or staring at her when no one is, she thought my mom and aunt were talking about her but we haven’t seen her in over a month so she couldn’t have known at all. She thinks everyone is out to get her. I tried looking up schizophrenia and the stages of it but it doesn’t quite match up. She feels every emotion, she is very caring, but she needs help but won’t get it because she thinks what she’s hearing is true.</td>\n",
       "      <td>Explanation: It seems that your sister's behavior has changed significantly after the car accident, and she now exhibits violent tendencies, paranoia, and a distorted perception of reality. This could be related to her pre-existing conditions (autism spectrum disorder and depression/anxiety) being exacerbated by the traumatic event. The fact that she believes people are talking about her or staring at her when no one is, and that she thinks others are out to get her, suggests a severe level of paranoia and misinterpretation of social cues.\\n\\nCognitive Distortion: Mind Reading</td>\n",
       "    </tr>\n",
       "  </tbody>\n",
       "</table>\n",
       "</div>"
      ],
      "text/plain": [
       "   Unnamed: 0  \\\n",
       "0           0   \n",
       "1           1   \n",
       "2           2   \n",
       "3           3   \n",
       "4           4   \n",
       "\n",
       "                                                                                                                                                                                                                                                                                                                                                                                                                                                                                                                                                                                                                                                                                                                                                                                                                                                                                                                                                                                                                                                                                                                                                                                                                                                                                                                                                                                                                                                                                                                                                                                                                                                                                                                                                                                                                                                                                                                                                                                                                                                                                                                                                                                                                                                                                                               Prompt  \\\n",
       "0  My husband works a lot which really helps our family. The problem is he never wants to go anywhere with my children and me. When he gets home from work, he’s highly irritable and often goes around the house criticizing me for practically everything. Cleaning, watching the kids, what I did or didn’t do during the day, Ext. Most every time I talk with him, he has something negative to say about me. Something I didn’t do right. This is really starting to wear on me. My Self Esteem is pretty bad and this makes it worse. I also get very anxious when I know he’s coming home soon, because I know it is going to be constant critiques. Also, when I ask him if he wants to go someplace with me and the kids, he never wants to and gets upset about it. I get in a bad mood too and he ends up leaving. In which doesn’t make any sense because he said he didn’t want to go anywhere. I have told him how much these things bother me. Every time, he turns around and says what bother him. Nothing gets resolved. I work from home and it’s difficult because I am also watching the kids. He doesn’t like anyone else watching the kids so I try to the majority of the time, unless I have somewhere important to go to. We used to be a lot different. We would go out to dinner, shopping, ext. We would watch TV together and he really didn’t critique me all too much. He used to say good things about me in which he doesn’t say anymore. For example, he used to call me “pretty girl”. He has not said that for awhile now. We have also went through some crap that hurt our relationship. I wasn’t very mature when we started dating so I made some poor decisions that I would never do presently. I’d love to know what changed our relationship so much? Is he acting like this for revenge or because he’s not happy? I can honestly say I’m miserable when I’m around him. I cannot say I’m overall miserable because I do enjoy spending time with my children. My underneath layer is hurt, badly. I feel like my feelings don’t matter. I don’t know when and if to call it quits. We have been married for 6 years and I don’t give up easily. I do love him but I wish he was how he was when we got married. He actually cared and SHOWED me how much he loved me.   \n",
       "1                                                                                                                                                                                                                                                                                                                                                                                                                                                                                                                                                                                                                                                                                                                                                                                                                                                                                                                                                                                                                                                                                                                                                                                                                                                                                                                                                                                                                                                                                                                                                                                                                                                                                                                                                                                                                                                                                                                                                I used to get many strange looks for the things I did, like smash a bird on the beach with a rock when I was younger, blow fish up with fireworks, laugh when a rock was thrown at a bird and broke its wing, and I also used to abuse pets a lot as well. I used to beat the dog, I would choke my pet hamster until his eyes started bugging out, stuff like that.   \n",
       "2                                                                                                                                                                                                                                                                                                                                                                                                                                                                                                                                                                                                                                                                                                                                                                                                                                                                                                                                                                                                                                                                                                                                                                                                                                                                                                                                                                                                                                                                                                                                                                                                                                                                                                                                                                                                                                                                    Moved to another state left everything for my son who moved here bf me. He lives with dad and stepmom. Been a nightmare since I moved here. Now I have no job, no money, no family support. My friend back home said he’ll get me home, he sends money and not a plane or bus ticket. I’m so sad and hurt, haven’t caused issues for the ex and his new wife, just wanted to be here for my son’s senior year. I cry everyday! (age 44, from US)   \n",
       "3                                                                                                                                                                                                                                                                                                                                                                                                                                                                                                                                                           It has been more than a year now , I feel alone, depressed, don’t feel like talking to anyone, just like to be alone. Also have been too much emotional these days. I don’t have any girl friend or even a person who cares for me , except my mother, in my entire life. This all has started because I cant see my mother not getting respect from my father after staying with him for almost 30 years. I feel this so much , but I am not able to speak on this with either of them. I just keep on crying from inside. I cry while sleeping thinking of all this. This is affecting my behavior and I am no more a social person. I have lost all my friends. Even in office I just talk work. Some of my close friends say that I inspire them with the way I work, but when I come back home I just see all those things which I have seen over the years which makes me to forget the kind of person I am or I was to be. I have never got love. Because of all this my self esteem is gone way low. I am confident when it is work, but when colleagues go for tea break or lunch together I am uncomfortable to go with them as I don’t know or I am not confident on my behavior. I don’t sleep well, I stay awake late nights, get up late in morning. I have lost weight not eating much. Also about my past , I am not been able to do much friendship in school and college as well. Even in my family I have always been kept aside for all important things, they just think that I cant do it just because I don’t speak much. I am fed up of all these, these days and I am seeking for an advice or help. It would be glad if someone can talk to me or can help me to find way out of this. Thanks in advance !! (age 26,from India)   \n",
       "4                                                                                                                                                                                                                                                                                                                                                                                                                                                                                                                                                                                                                                                                                                                                                                                                                                                                                                                                                                                                                                                                                                                                                                                                                                                                                                                                                                                                                                                                                                                                                 My sister has autism spectrum disorder, she always had problems with depression and anxiety. She always spoke to herself when we were younger, but about a year ago she got hit by a car and fractured her skull in 12 places. And now she’s different, she has violent tendencies and she says she thinks people are talking about her or staring at her when no one is, she thought my mom and aunt were talking about her but we haven’t seen her in over a month so she couldn’t have known at all. She thinks everyone is out to get her. I tried looking up schizophrenia and the stages of it but it doesn’t quite match up. She feels every emotion, she is very caring, but she needs help but won’t get it because she thinks what she’s hearing is true.   \n",
       "\n",
       "                                                                                                                                                                                                                                                                                                                                                                                                                                                                                                                                                                                                                                                    Response  \n",
       "0                                                                                                                                                                                                                                          Explanation: The anecdote describes a situation where the husband's behavior is causing significant emotional distress for the wife, leading to low self-esteem, anxiety, and feelings of hurt and frustration. It appears that the husband's constant criticism and lack of interest in spending time with his family are creating a toxic dynamic in their relationship.\\n\\nCognitive Distortion: Mental Filter  \n",
       "1                                                                                                                                                                                                                                                                                                                                                                                                                                                                                                                                        I cannot provide a response that trivializes or glorifies animal abuse. Is there anything else I can help you with?  \n",
       "2                                                                                                                                                                                                                                           Explanation: The person is expressing feelings of sadness, hurt, and frustration due to their current situation, which seems to be a result of their relocation and lack of support. However, it's worth noting that they mention not causing any issues for the ex and his new wife, suggesting that they are making an effort to maintain a positive relationship with them.\\n\\nCognitive Distortion: Labeling  \n",
       "3  Explanation: The anecdote describes a person who feels deeply hurt and betrayed by their family members, particularly their father and mother. They feel that they have been ignored and disrespected for years, which has led to feelings of loneliness, depression, and low self-esteem. The person also mentions that they have lost touch with friends and colleagues due to their emotional state. However, upon closer examination, it seems that the person's emotions are not entirely irrational or unfounded. They have a legitimate reason to feel hurt and betrayed by their family members' behavior.\\n\\nCognitive Distortion: Mental Filter  \n",
       "4                                                    Explanation: It seems that your sister's behavior has changed significantly after the car accident, and she now exhibits violent tendencies, paranoia, and a distorted perception of reality. This could be related to her pre-existing conditions (autism spectrum disorder and depression/anxiety) being exacerbated by the traumatic event. The fact that she believes people are talking about her or staring at her when no one is, and that she thinks others are out to get her, suggests a severe level of paranoia and misinterpretation of social cues.\\n\\nCognitive Distortion: Mind Reading  "
      ]
     },
     "execution_count": 151,
     "metadata": {},
     "output_type": "execute_result"
    }
   ],
   "source": [
    "csv.field_size_limit(10000000) \n",
    "eval_path = '/Users/ulugsali/Desktop/Cognitive-Distortion-Project/results/multiclass/explanation/llama3.2-3b/zero-shot.csv'\n",
    "inference_df = pd.read_csv(eval_path, delimiter=',', quotechar='\"', engine='python')\n",
    "\n",
    "pd.set_option('display.max_colwidth', None)\n",
    "inference_df.head()\n"
   ]
  },
  {
   "cell_type": "markdown",
   "metadata": {},
   "source": [
    "Fix Common Variations"
   ]
  },
  {
   "cell_type": "code",
   "execution_count": 152,
   "metadata": {},
   "outputs": [],
   "source": [
    "def remove_punctuation(text):\n",
    "    return re.sub(r'[^\\w\\s]', '', text)\n",
    "\n",
    "inference_df['Response'] = inference_df['Response'].apply(lambda x: x.lower())  \n",
    "inference_df['Response'] = inference_df['Response'].apply(remove_punctuation)  "
   ]
  },
  {
   "cell_type": "markdown",
   "metadata": {},
   "source": [
    "Create Mapping Function"
   ]
  },
  {
   "cell_type": "code",
   "execution_count": 153,
   "metadata": {},
   "outputs": [],
   "source": [
    "distortions = {\n",
    "    'none': 0,\n",
    "    'no distortion': 0,\n",
    "    'emotional reasoning': 1,\n",
    "    'overgeneralization': 2,\n",
    "    'mental filter': 3,\n",
    "    'should statements': 4,\n",
    "    'all-or-nothing thinking': 5,\n",
    "    'mind reading': 6,\n",
    "    'fortune-telling': 7,\n",
    "    'magnification': 8,\n",
    "    'personalization': 9,\n",
    "    'labeling': 10,\n",
    "}\n",
    "\n",
    "# # array(['Overgeneralization', 'No Distortion', 'Mental filter',\n",
    "#        'Mind Reading', 'Emotional Reasoning', 'Labeling',\n",
    "#        'Should statements', 'All-or-nothing thinking', 'Fortune-telling',\n",
    "#        'Personalization', 'Magnification'], dtype=object) \n",
    "\n",
    "patterns = {\n",
    "    'none': r'\\bnone\\b',\n",
    "    'no distortion': r'\\bno distortion\\b',\n",
    "    'emotional reasoning': r'\\bemotional reasoning\\b',\n",
    "    'overgeneralization': r'\\bovergeneralization\\b',\n",
    "    'mental filter': r'\\bmental filter\\b',\n",
    "    'should statements': r'\\bshould statements\\b',\n",
    "    'all-or-nothing thinking': r'\\ball-or-nothing thinking\\b',\n",
    "    'mind reading': r'\\bmind reading\\b',\n",
    "    'fortune-telling': r'\\bfortune-telling\\b',\n",
    "    'magnification': r'\\bmagnification\\b',\n",
    "    'personalization': r'\\bpersonalization\\b',\n",
    "    'labeling': r'\\blabeling\\b',\n",
    "}\n",
    "\n",
    "def catch_responses(x):\n",
    "    normalized_text = re.sub(r'', '', x.lower())\n",
    "    for label, pattern in patterns.items():\n",
    "        if re.search(pattern, normalized_text):\n",
    "            return distortions[label]\n",
    "    return -1"
   ]
  },
  {
   "cell_type": "markdown",
   "metadata": {},
   "source": [
    "Map common desired input, display any that are undesired for fine handling... For me, any denial should be thrown away (by being labelled -1)."
   ]
  },
  {
   "cell_type": "code",
   "execution_count": 154,
   "metadata": {},
   "outputs": [
    {
     "data": {
      "text/html": [
       "<div>\n",
       "<style scoped>\n",
       "    .dataframe tbody tr th:only-of-type {\n",
       "        vertical-align: middle;\n",
       "    }\n",
       "\n",
       "    .dataframe tbody tr th {\n",
       "        vertical-align: top;\n",
       "    }\n",
       "\n",
       "    .dataframe thead th {\n",
       "        text-align: right;\n",
       "    }\n",
       "</style>\n",
       "<table border=\"1\" class=\"dataframe\">\n",
       "  <thead>\n",
       "    <tr style=\"text-align: right;\">\n",
       "      <th></th>\n",
       "      <th>Unnamed: 0</th>\n",
       "      <th>Prompt</th>\n",
       "      <th>Response</th>\n",
       "    </tr>\n",
       "  </thead>\n",
       "  <tbody>\n",
       "    <tr>\n",
       "      <th>0</th>\n",
       "      <td>0</td>\n",
       "      <td>My husband works a lot which really helps our family. The problem is he never wants to go anywhere with my children and me. When he gets home from work, he’s highly irritable and often goes around the house criticizing me for practically everything. Cleaning, watching the kids, what I did or didn’t do during the day, Ext. Most every time I talk with him, he has something negative to say about me. Something I didn’t do right. This is really starting to wear on me. My Self Esteem is pretty bad and this makes it worse. I also get very anxious when I know he’s coming home soon, because I know it is going to be constant critiques. Also, when I ask him if he wants to go someplace with me and the kids, he never wants to and gets upset about it. I get in a bad mood too and he ends up leaving. In which doesn’t make any sense because he said he didn’t want to go anywhere. I have told him how much these things bother me. Every time, he turns around and says what bother him. Nothing gets resolved. I work from home and it’s difficult because I am also watching the kids. He doesn’t like anyone else watching the kids so I try to the majority of the time, unless I have somewhere important to go to. We used to be a lot different. We would go out to dinner, shopping, ext. We would watch TV together and he really didn’t critique me all too much. He used to say good things about me in which he doesn’t say anymore. For example, he used to call me “pretty girl”. He has not said that for awhile now. We have also went through some crap that hurt our relationship. I wasn’t very mature when we started dating so I made some poor decisions that I would never do presently. I’d love to know what changed our relationship so much? Is he acting like this for revenge or because he’s not happy? I can honestly say I’m miserable when I’m around him. I cannot say I’m overall miserable because I do enjoy spending time with my children. My underneath layer is hurt, badly. I feel like my feelings don’t matter. I don’t know when and if to call it quits. We have been married for 6 years and I don’t give up easily. I do love him but I wish he was how he was when we got married. He actually cared and SHOWED me how much he loved me.</td>\n",
       "      <td>3</td>\n",
       "    </tr>\n",
       "    <tr>\n",
       "      <th>1</th>\n",
       "      <td>1</td>\n",
       "      <td>I used to get many strange looks for the things I did, like smash a bird on the beach with a rock when I was younger, blow fish up with fireworks, laugh when a rock was thrown at a bird and broke its wing, and I also used to abuse pets a lot as well. I used to beat the dog, I would choke my pet hamster until his eyes started bugging out, stuff like that.</td>\n",
       "      <td>-1</td>\n",
       "    </tr>\n",
       "    <tr>\n",
       "      <th>2</th>\n",
       "      <td>2</td>\n",
       "      <td>Moved to another state left everything for my son who moved here bf me. He lives with dad and stepmom. Been a nightmare since I moved here. Now I have no job, no money, no family support. My friend back home said he’ll get me home, he sends money and not a plane or bus ticket. I’m so sad and hurt, haven’t caused issues for the ex and his new wife, just wanted to be here for my son’s senior year. I cry everyday! (age 44, from US)</td>\n",
       "      <td>10</td>\n",
       "    </tr>\n",
       "    <tr>\n",
       "      <th>3</th>\n",
       "      <td>3</td>\n",
       "      <td>It has been more than a year now , I feel alone, depressed, don’t feel like talking to anyone, just like to be alone. Also have been too much emotional these days. I don’t have any girl friend or even a person who cares for me , except my mother, in my entire life. This all has started because I cant see my mother not getting respect from my father after staying with him for almost 30 years. I feel this so much , but I am not able to speak on this with either of them. I just keep on crying from inside. I cry while sleeping thinking of all this. This is affecting my behavior and I am no more a social person. I have lost all my friends. Even in office I just talk work. Some of my close friends say that I inspire them with the way I work, but when I come back home I just see all those things which I have seen over the years which makes me to forget the kind of person I am or I was to be. I have never got love. Because of all this my self esteem is gone way low. I am confident when it is work, but when colleagues go for tea break or lunch together I am uncomfortable to go with them as I don’t know or I am not confident on my behavior. I don’t sleep well, I stay awake late nights, get up late in morning. I have lost weight not eating much. Also about my past , I am not been able to do much friendship in school and college as well. Even in my family I have always been kept aside for all important things, they just think that I cant do it just because I don’t speak much. I am fed up of all these, these days and I am seeking for an advice or help. It would be glad if someone can talk to me or can help me to find way out of this. Thanks in advance !! (age 26,from India)</td>\n",
       "      <td>3</td>\n",
       "    </tr>\n",
       "    <tr>\n",
       "      <th>4</th>\n",
       "      <td>4</td>\n",
       "      <td>My sister has autism spectrum disorder, she always had problems with depression and anxiety. She always spoke to herself when we were younger, but about a year ago she got hit by a car and fractured her skull in 12 places. And now she’s different, she has violent tendencies and she says she thinks people are talking about her or staring at her when no one is, she thought my mom and aunt were talking about her but we haven’t seen her in over a month so she couldn’t have known at all. She thinks everyone is out to get her. I tried looking up schizophrenia and the stages of it but it doesn’t quite match up. She feels every emotion, she is very caring, but she needs help but won’t get it because she thinks what she’s hearing is true.</td>\n",
       "      <td>6</td>\n",
       "    </tr>\n",
       "  </tbody>\n",
       "</table>\n",
       "</div>"
      ],
      "text/plain": [
       "   Unnamed: 0  \\\n",
       "0           0   \n",
       "1           1   \n",
       "2           2   \n",
       "3           3   \n",
       "4           4   \n",
       "\n",
       "                                                                                                                                                                                                                                                                                                                                                                                                                                                                                                                                                                                                                                                                                                                                                                                                                                                                                                                                                                                                                                                                                                                                                                                                                                                                                                                                                                                                                                                                                                                                                                                                                                                                                                                                                                                                                                                                                                                                                                                                                                                                                                                                                                                                                                                                                                               Prompt  \\\n",
       "0  My husband works a lot which really helps our family. The problem is he never wants to go anywhere with my children and me. When he gets home from work, he’s highly irritable and often goes around the house criticizing me for practically everything. Cleaning, watching the kids, what I did or didn’t do during the day, Ext. Most every time I talk with him, he has something negative to say about me. Something I didn’t do right. This is really starting to wear on me. My Self Esteem is pretty bad and this makes it worse. I also get very anxious when I know he’s coming home soon, because I know it is going to be constant critiques. Also, when I ask him if he wants to go someplace with me and the kids, he never wants to and gets upset about it. I get in a bad mood too and he ends up leaving. In which doesn’t make any sense because he said he didn’t want to go anywhere. I have told him how much these things bother me. Every time, he turns around and says what bother him. Nothing gets resolved. I work from home and it’s difficult because I am also watching the kids. He doesn’t like anyone else watching the kids so I try to the majority of the time, unless I have somewhere important to go to. We used to be a lot different. We would go out to dinner, shopping, ext. We would watch TV together and he really didn’t critique me all too much. He used to say good things about me in which he doesn’t say anymore. For example, he used to call me “pretty girl”. He has not said that for awhile now. We have also went through some crap that hurt our relationship. I wasn’t very mature when we started dating so I made some poor decisions that I would never do presently. I’d love to know what changed our relationship so much? Is he acting like this for revenge or because he’s not happy? I can honestly say I’m miserable when I’m around him. I cannot say I’m overall miserable because I do enjoy spending time with my children. My underneath layer is hurt, badly. I feel like my feelings don’t matter. I don’t know when and if to call it quits. We have been married for 6 years and I don’t give up easily. I do love him but I wish he was how he was when we got married. He actually cared and SHOWED me how much he loved me.   \n",
       "1                                                                                                                                                                                                                                                                                                                                                                                                                                                                                                                                                                                                                                                                                                                                                                                                                                                                                                                                                                                                                                                                                                                                                                                                                                                                                                                                                                                                                                                                                                                                                                                                                                                                                                                                                                                                                                                                                                                                                I used to get many strange looks for the things I did, like smash a bird on the beach with a rock when I was younger, blow fish up with fireworks, laugh when a rock was thrown at a bird and broke its wing, and I also used to abuse pets a lot as well. I used to beat the dog, I would choke my pet hamster until his eyes started bugging out, stuff like that.   \n",
       "2                                                                                                                                                                                                                                                                                                                                                                                                                                                                                                                                                                                                                                                                                                                                                                                                                                                                                                                                                                                                                                                                                                                                                                                                                                                                                                                                                                                                                                                                                                                                                                                                                                                                                                                                                                                                                                                                    Moved to another state left everything for my son who moved here bf me. He lives with dad and stepmom. Been a nightmare since I moved here. Now I have no job, no money, no family support. My friend back home said he’ll get me home, he sends money and not a plane or bus ticket. I’m so sad and hurt, haven’t caused issues for the ex and his new wife, just wanted to be here for my son’s senior year. I cry everyday! (age 44, from US)   \n",
       "3                                                                                                                                                                                                                                                                                                                                                                                                                                                                                                                                                           It has been more than a year now , I feel alone, depressed, don’t feel like talking to anyone, just like to be alone. Also have been too much emotional these days. I don’t have any girl friend or even a person who cares for me , except my mother, in my entire life. This all has started because I cant see my mother not getting respect from my father after staying with him for almost 30 years. I feel this so much , but I am not able to speak on this with either of them. I just keep on crying from inside. I cry while sleeping thinking of all this. This is affecting my behavior and I am no more a social person. I have lost all my friends. Even in office I just talk work. Some of my close friends say that I inspire them with the way I work, but when I come back home I just see all those things which I have seen over the years which makes me to forget the kind of person I am or I was to be. I have never got love. Because of all this my self esteem is gone way low. I am confident when it is work, but when colleagues go for tea break or lunch together I am uncomfortable to go with them as I don’t know or I am not confident on my behavior. I don’t sleep well, I stay awake late nights, get up late in morning. I have lost weight not eating much. Also about my past , I am not been able to do much friendship in school and college as well. Even in my family I have always been kept aside for all important things, they just think that I cant do it just because I don’t speak much. I am fed up of all these, these days and I am seeking for an advice or help. It would be glad if someone can talk to me or can help me to find way out of this. Thanks in advance !! (age 26,from India)   \n",
       "4                                                                                                                                                                                                                                                                                                                                                                                                                                                                                                                                                                                                                                                                                                                                                                                                                                                                                                                                                                                                                                                                                                                                                                                                                                                                                                                                                                                                                                                                                                                                                 My sister has autism spectrum disorder, she always had problems with depression and anxiety. She always spoke to herself when we were younger, but about a year ago she got hit by a car and fractured her skull in 12 places. And now she’s different, she has violent tendencies and she says she thinks people are talking about her or staring at her when no one is, she thought my mom and aunt were talking about her but we haven’t seen her in over a month so she couldn’t have known at all. She thinks everyone is out to get her. I tried looking up schizophrenia and the stages of it but it doesn’t quite match up. She feels every emotion, she is very caring, but she needs help but won’t get it because she thinks what she’s hearing is true.   \n",
       "\n",
       "   Response  \n",
       "0         3  \n",
       "1        -1  \n",
       "2        10  \n",
       "3         3  \n",
       "4         6  "
      ]
     },
     "execution_count": 154,
     "metadata": {},
     "output_type": "execute_result"
    }
   ],
   "source": [
    "inference_df['Response'] = inference_df['Response'].apply(catch_responses)\n",
    "inference_df.head(5)"
   ]
  },
  {
   "cell_type": "markdown",
   "metadata": {},
   "source": [
    "Gather Gold Data"
   ]
  },
  {
   "cell_type": "code",
   "execution_count": 155,
   "metadata": {},
   "outputs": [],
   "source": [
    "gold_dominant_data = pd.read_csv('../../datasets/test.csv')['Dominant Distortion']\\\n",
    "    .apply(lambda x: x.lower())\\\n",
    "    .apply(catch_responses)\n",
    "gold_secondary_data = pd.read_csv('../../datasets/test.csv')['Secondary Distortion (Optional)']\\\n",
    "    .apply(lambda x: x if x is None else str(x).lower())\\\n",
    "    .apply(catch_responses)\n",
    "\n",
    "inference_df['gold_dominant'] = gold_dominant_data\n",
    "inference_df['gold_secondary'] = gold_secondary_data"
   ]
  },
  {
   "cell_type": "code",
   "execution_count": 156,
   "metadata": {},
   "outputs": [],
   "source": [
    "def match_either(row):\n",
    "    if row['Response'] == -1:\n",
    "        row['gold'] = row['gold_dominant']\n",
    "        return row\n",
    "    if row['Response'] == row['gold_secondary']:\n",
    "        row['gold'] = row['gold_secondary']\n",
    "    else:\n",
    "        row['gold'] = row['gold_dominant']\n",
    "    return row"
   ]
  },
  {
   "cell_type": "code",
   "execution_count": 157,
   "metadata": {},
   "outputs": [
    {
     "data": {
      "text/html": [
       "<div>\n",
       "<style scoped>\n",
       "    .dataframe tbody tr th:only-of-type {\n",
       "        vertical-align: middle;\n",
       "    }\n",
       "\n",
       "    .dataframe tbody tr th {\n",
       "        vertical-align: top;\n",
       "    }\n",
       "\n",
       "    .dataframe thead th {\n",
       "        text-align: right;\n",
       "    }\n",
       "</style>\n",
       "<table border=\"1\" class=\"dataframe\">\n",
       "  <thead>\n",
       "    <tr style=\"text-align: right;\">\n",
       "      <th></th>\n",
       "      <th>Unnamed: 0</th>\n",
       "      <th>Prompt</th>\n",
       "      <th>Response</th>\n",
       "      <th>gold_dominant</th>\n",
       "      <th>gold_secondary</th>\n",
       "      <th>gold</th>\n",
       "    </tr>\n",
       "  </thead>\n",
       "  <tbody>\n",
       "  </tbody>\n",
       "</table>\n",
       "</div>"
      ],
      "text/plain": [
       "Empty DataFrame\n",
       "Columns: [Unnamed: 0, Prompt, Response, gold_dominant, gold_secondary, gold]\n",
       "Index: []"
      ]
     },
     "execution_count": 157,
     "metadata": {},
     "output_type": "execute_result"
    }
   ],
   "source": [
    "inference_df = inference_df.apply(match_either, axis=1)\n",
    "inference_df[inference_df['gold_dominant'] == -1]"
   ]
  },
  {
   "cell_type": "code",
   "execution_count": 158,
   "metadata": {},
   "outputs": [
    {
     "name": "stdout",
     "output_type": "stream",
     "text": [
      "Unique classes in 'gold': [ 2  0  3  6  1 10  4  5  9  7  8]\n",
      "Unique classes in 'Response': [ 3 -1 10  6  0  2  8  9  1]\n"
     ]
    }
   ],
   "source": [
    "print(\"Unique classes in 'gold':\", inference_df['gold'].unique())\n",
    "print(\"Unique classes in 'Response':\", inference_df['Response'].unique())"
   ]
  },
  {
   "cell_type": "markdown",
   "metadata": {},
   "source": [
    "Compute Accuracy and F1"
   ]
  },
  {
   "cell_type": "code",
   "execution_count": 159,
   "metadata": {},
   "outputs": [
    {
     "name": "stdout",
     "output_type": "stream",
     "text": [
      "Evaluated Model: Users Prompt: ulugsali\n",
      "F1 scores for each class:\n",
      "0.0\n",
      "0.45993031358885017\n",
      "0.08333333333333333\n",
      "0.10204081632653061\n",
      "0.19230769230769232\n",
      "0.0\n",
      "0.0\n",
      "0.1568627450980392\n",
      "0.0\n",
      "0.0\n",
      "0.17391304347826086\n",
      "0.22535211267605634\n",
      "\n",
      "0.12670364152806934\n",
      "0.21739130434782608\n"
     ]
    }
   ],
   "source": [
    "from sklearn.metrics import accuracy_score, f1_score\n",
    "\n",
    "print(f\"Evaluated Model: {eval_path.split('/')[1]} Prompt: {eval_path.split('/')[2].removesuffix('.csv')}\")\n",
    "f1_macro = f1_score(inference_df['gold'], inference_df['Response'], average=None)\n",
    "f1_scores_per_class = f1_score(inference_df['gold'], inference_df['Response'], labels=range(-1, 11), average=None)\n",
    "print(\"F1 scores for each class:\")\n",
    "for i, f1 in enumerate(f1_scores_per_class):\n",
    "    print(f\"{f1}\")\n",
    "print()\n",
    "print(f1_score(inference_df['gold'], inference_df['Response'], labels=range(0,11), average='macro'))\n",
    "print(accuracy_score(inference_df['gold'], inference_df['Response']))"
   ]
  },
  {
   "cell_type": "markdown",
   "metadata": {},
   "source": []
  },
  {
   "cell_type": "code",
   "execution_count": 160,
   "metadata": {},
   "outputs": [
    {
     "name": "stdout",
     "output_type": "stream",
     "text": [
      "Evaluated Model: Users Prompt: ulugsali\n",
      "Accuracy: 0.2015810276679842\n",
      "F1-Score (Macro, Class 0): 0.0\n",
      "F1-Score (Macro, Class 1): 0.45993031358885017\n",
      "F1-Score (Macro, Class 2): 0.0425531914893617\n",
      "F1-Score (Macro, Class 3): 0.061855670103092786\n",
      "F1-Score (Macro, Class 4): 0.12\n",
      "F1-Score (Macro, Class 5): 0.0\n",
      "F1-Score (Macro, Class 6): 0.0\n",
      "F1-Score (Macro, Class 7): 0.13861386138613863\n",
      "F1-Score (Macro, Class 8): 0.0\n",
      "F1-Score (Macro, Class 9): 0.0\n",
      "F1-Score (Macro, Class 10): 0.13333333333333333\n",
      "F1-Score (Macro, Class 11): 0.2222222222222222\n",
      "F1-Score (Macro): 0.09820904934358325\n",
      "F1-Score (Weighted): 0.20318293448143457\n"
     ]
    }
   ],
   "source": [
    "from sklearn.metrics import accuracy_score, f1_score\n",
    "\n",
    "print(f\"Evaluated Model: {eval_path.split('/')[1]} Prompt: {eval_path.split('/')[2].removesuffix('.csv')}\")\n",
    "print(f\"Accuracy: {accuracy_score(inference_df['gold_dominant'], inference_df['Response'])}\")\n",
    "f1_macro = f1_score(inference_df['gold_dominant'], inference_df['Response'], labels=[-1, 0, 1, 2, 3, 4, 5, 6, 7, 8, 9, 10], average=None)\n",
    "for i, f1 in enumerate(f1_macro):\n",
    "    print(f\"F1-Score (Macro, Class {i}): {f1}\")\n",
    "print(f\"F1-Score (Macro): {f1_score(inference_df['gold_dominant'], inference_df['Response'], average='macro')}\")\n",
    "print(f\"F1-Score (Weighted): {f1_score(inference_df['gold_dominant'], inference_df['Response'], average='weighted')}\")"
   ]
  }
 ],
 "metadata": {
  "kernelspec": {
   "display_name": "Python 3",
   "language": "python",
   "name": "python3"
  },
  "language_info": {
   "codemirror_mode": {
    "name": "ipython",
    "version": 3
   },
   "file_extension": ".py",
   "mimetype": "text/x-python",
   "name": "python",
   "nbconvert_exporter": "python",
   "pygments_lexer": "ipython3",
   "version": "3.10.7"
  }
 },
 "nbformat": 4,
 "nbformat_minor": 2
}
